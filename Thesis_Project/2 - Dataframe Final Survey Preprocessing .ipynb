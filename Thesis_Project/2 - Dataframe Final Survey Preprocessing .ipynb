{
 "cells": [
  {
   "cell_type": "markdown",
   "metadata": {},
   "source": [
    "**Graduation Project**: PM Footprint calculator based on citizen behavior related to fine dust emissions.\n",
    "\n",
    "Student: **Alessandro Monolo** | 1790210\n",
    "\n",
    "GP supervisor: Angelique Ruiter\n",
    "\n",
    "Master Data-Driven Design, Hogeschool Utrecht.\n",
    "\n",
    "Academical Year: 2021/2022, Block C."
   ]
  },
  {
   "cell_type": "markdown",
   "metadata": {},
   "source": [
    "## 2 - Dataframe Final Survey Preprocessing "
   ]
  },
  {
   "cell_type": "code",
   "execution_count": 3,
   "metadata": {},
   "outputs": [],
   "source": [
    "# Import the Python Libraries I need to clean, pre-process and visualize the data contained into the survey PM dataframe:"
   ]
  },
  {
   "cell_type": "code",
   "execution_count": 4,
   "metadata": {},
   "outputs": [],
   "source": [
    "import pandas as pd\n",
    "import numpy as np\n",
    "import matplotlib.pyplot as plt\n",
    "import seaborn as sns\n",
    "import matplotlib.style as style\n",
    "from matplotlib import cm\n",
    "%matplotlib inline"
   ]
  },
  {
   "cell_type": "code",
   "execution_count": 5,
   "metadata": {},
   "outputs": [],
   "source": [
    "# Import cleaned dataframe with the name: df_survey_final"
   ]
  },
  {
   "cell_type": "code",
   "execution_count": 6,
   "metadata": {},
   "outputs": [],
   "source": [
    "df_survey_final = pd.read_csv(\"df_survey_final.csv\", index_col=False)"
   ]
  },
  {
   "cell_type": "code",
   "execution_count": 7,
   "metadata": {},
   "outputs": [],
   "source": [
    "# Here I obtain the total amount of cigarette smoked every month by daily smoker users.\n",
    "# So, I assign values to each possible conditions in my dataframe as here below:"
   ]
  },
  {
   "cell_type": "code",
   "execution_count": 8,
   "metadata": {},
   "outputs": [],
   "source": [
    "conditions0 = [\n",
    "    (df_survey_final['Smoker_Type'] == \"No smoker\"),\n",
    "    (df_survey_final['Smoker_Type'] == \"3 to 5 month\"),\n",
    "    (df_survey_final['Smoker_Type'] == \"3 to 5 week\"),\n",
    "    (df_survey_final['Smoker_Type'] == \"Daily Smoker\") & (df_survey_final['N_Cigarette_Daily_Smoker'] == \"1 to 5\"),\n",
    "    (df_survey_final['Smoker_Type'] == \"Daily Smoker\") & (df_survey_final['N_Cigarette_Daily_Smoker'] == \"6 to 10\"),\n",
    "    (df_survey_final['Smoker_Type'] == \"Daily Smoker\") & (df_survey_final['N_Cigarette_Daily_Smoker'] == \"11 to 15\"),\n",
    "    (df_survey_final['Smoker_Type'] == \"Daily Smoker\") & (df_survey_final['N_Cigarette_Daily_Smoker'] == \"16 to 20\")]"
   ]
  },
  {
   "cell_type": "code",
   "execution_count": 9,
   "metadata": {},
   "outputs": [],
   "source": [
    "values0 = [0, 5, 20, 140, 280, 420, 560]"
   ]
  },
  {
   "cell_type": "code",
   "execution_count": 10,
   "metadata": {},
   "outputs": [],
   "source": [
    "# Here I assign each monthly values to the inherent conditions to a new dataframe column - Smoked cigarette:"
   ]
  },
  {
   "cell_type": "code",
   "execution_count": 11,
   "metadata": {},
   "outputs": [],
   "source": [
    "df_survey_final[\"Smoked_cigarette\"] = np.select(conditions0, values0)"
   ]
  },
  {
   "cell_type": "code",
   "execution_count": 12,
   "metadata": {},
   "outputs": [],
   "source": [
    "# Drop the obsolete dataframe columns - Smoker_Type & N_Cigarette_Daily_Smoker:"
   ]
  },
  {
   "cell_type": "code",
   "execution_count": 13,
   "metadata": {},
   "outputs": [],
   "source": [
    "df_survey_final = df_survey_final.drop(['Smoker_Type', 'N_Cigarette_Daily_Smoker'], axis=1)"
   ]
  },
  {
   "cell_type": "code",
   "execution_count": 14,
   "metadata": {},
   "outputs": [],
   "source": [
    "# Here I obtain the total amount of Online purchases bought every month.\n",
    "# So, I assign values to each possible conditions in my dataframe as here below:"
   ]
  },
  {
   "cell_type": "code",
   "execution_count": 15,
   "metadata": {},
   "outputs": [],
   "source": [
    "conditions1 = [(df_survey_final['N_On-Line_Purchase_x_Month'] == \"1 to 5\"),\n",
    "               (df_survey_final['N_On-Line_Purchase_x_Month'] == \"6 to 10\"),\n",
    "               (df_survey_final['N_On-Line_Purchase_x_Month'] == \"11 to 15\"),\n",
    "               (df_survey_final['N_On-Line_Purchase_x_Month'] == \"16 to 20\")]"
   ]
  },
  {
   "cell_type": "code",
   "execution_count": 16,
   "metadata": {},
   "outputs": [],
   "source": [
    "values1 = [5, 10, 15, 20]"
   ]
  },
  {
   "cell_type": "code",
   "execution_count": 17,
   "metadata": {},
   "outputs": [],
   "source": [
    "# Here I assign each monthly values to the inherent conditions to a new dataframe column - Online Purchase:"
   ]
  },
  {
   "cell_type": "code",
   "execution_count": 18,
   "metadata": {},
   "outputs": [],
   "source": [
    "df_survey_final[\"Online_purchase\"] = np.select(conditions1, values1)"
   ]
  },
  {
   "cell_type": "code",
   "execution_count": 19,
   "metadata": {},
   "outputs": [],
   "source": [
    "# Drop the obsolete dataframe columns - N_On-Line_Purchase_x_Month:"
   ]
  },
  {
   "cell_type": "code",
   "execution_count": 20,
   "metadata": {},
   "outputs": [],
   "source": [
    "df_survey_final = df_survey_final.drop(['N_On-Line_Purchase_x_Month'], axis=1)"
   ]
  },
  {
   "cell_type": "code",
   "execution_count": 21,
   "metadata": {},
   "outputs": [],
   "source": [
    "# Here I obtain the total amount of Offline purchases bought every month.\n",
    "# So, I assign values to each possible conditions in my dataframe as here below:"
   ]
  },
  {
   "cell_type": "code",
   "execution_count": 22,
   "metadata": {},
   "outputs": [],
   "source": [
    "conditions2 = [(df_survey_final['N_Off-Line_Purchase_x_Month'] == \"1 to 5\"),\n",
    "               (df_survey_final['N_Off-Line_Purchase_x_Month'] == \"6 to 10\"),\n",
    "               (df_survey_final['N_Off-Line_Purchase_x_Month'] == \"11 to 15\"),\n",
    "               (df_survey_final['N_Off-Line_Purchase_x_Month'] == \"16 to 20\"),\n",
    "               (df_survey_final['N_Off-Line_Purchase_x_Month'] == \"≥21\")]"
   ]
  },
  {
   "cell_type": "code",
   "execution_count": 23,
   "metadata": {},
   "outputs": [],
   "source": [
    "values2 = [5, 10, 15, 20, 25]"
   ]
  },
  {
   "cell_type": "code",
   "execution_count": 24,
   "metadata": {},
   "outputs": [],
   "source": [
    "# Here I assign each monthly values to the inherent conditions to a new dataframe column - Offline Purchase:"
   ]
  },
  {
   "cell_type": "code",
   "execution_count": 25,
   "metadata": {},
   "outputs": [],
   "source": [
    "df_survey_final[\"Offline_purchase\"] = np.select(conditions2, values2)"
   ]
  },
  {
   "cell_type": "code",
   "execution_count": 26,
   "metadata": {},
   "outputs": [],
   "source": [
    "# Drop the obsolete dataframe columns - N_Off-Line_Purchase_x_Month:"
   ]
  },
  {
   "cell_type": "code",
   "execution_count": 27,
   "metadata": {},
   "outputs": [],
   "source": [
    "df_survey_final = df_survey_final.drop(['N_Off-Line_Purchase_x_Month'], axis=1)"
   ]
  },
  {
   "cell_type": "code",
   "execution_count": 28,
   "metadata": {},
   "outputs": [],
   "source": [
    "# Here I obtain the total amount of meat based meals per month.\n",
    "# So, I assign values to each possible conditions in my dataframe as here below:"
   ]
  },
  {
   "cell_type": "code",
   "execution_count": 29,
   "metadata": {},
   "outputs": [],
   "source": [
    "conditions3 = [(df_survey_final['Days_meatmeal_x_Week'] == \"0\"),\n",
    "               (df_survey_final['Days_meatmeal_x_Week'] == \"1 to 2\"),\n",
    "               (df_survey_final['Days_meatmeal_x_Week'] == \"3 to 4\"),\n",
    "               (df_survey_final['Days_meatmeal_x_Week'] == \"7\")]"
   ]
  },
  {
   "cell_type": "code",
   "execution_count": 30,
   "metadata": {},
   "outputs": [],
   "source": [
    "values3 = [0, 8, 16, 28]"
   ]
  },
  {
   "cell_type": "code",
   "execution_count": 31,
   "metadata": {},
   "outputs": [],
   "source": [
    "# Here I assign each monthly values to the inherent conditions to a new dataframe column - Meat based meals:"
   ]
  },
  {
   "cell_type": "code",
   "execution_count": 32,
   "metadata": {},
   "outputs": [],
   "source": [
    "df_survey_final[\"Meat_based_meals\"] = np.select(conditions3, values3)"
   ]
  },
  {
   "cell_type": "code",
   "execution_count": 33,
   "metadata": {},
   "outputs": [],
   "source": [
    "# Drop the obsolete dataframe columns - Days_meatmeal_x_Week:"
   ]
  },
  {
   "cell_type": "code",
   "execution_count": 34,
   "metadata": {},
   "outputs": [],
   "source": [
    "df_survey_final = df_survey_final.drop(['Days_meatmeal_x_Week'], axis=1)"
   ]
  },
  {
   "cell_type": "code",
   "execution_count": 35,
   "metadata": {},
   "outputs": [],
   "source": [
    "# Create new dataframe column based on total number of flights per year splitted in\n",
    "# 12 obtaining the number of flights per each month:"
   ]
  },
  {
   "cell_type": "code",
   "execution_count": 36,
   "metadata": {},
   "outputs": [],
   "source": [
    "df_survey_final['Flights'] = df_survey_final['N_Flights_x_Year'].div(12).round(2)"
   ]
  },
  {
   "cell_type": "code",
   "execution_count": 37,
   "metadata": {},
   "outputs": [],
   "source": [
    "# Drop the obsolete dataframe yearly column:"
   ]
  },
  {
   "cell_type": "code",
   "execution_count": 38,
   "metadata": {},
   "outputs": [],
   "source": [
    "df_survey_final = df_survey_final.drop(['N_Flights_x_Year'], axis=1)"
   ]
  },
  {
   "cell_type": "code",
   "execution_count": 39,
   "metadata": {},
   "outputs": [],
   "source": [
    "# Here I obtain the house temperature per each house.\n",
    "# So, I assign values to each possible conditions in my dataframe as here below:"
   ]
  },
  {
   "cell_type": "code",
   "execution_count": 40,
   "metadata": {},
   "outputs": [],
   "source": [
    "conditions4 = [(df_survey_final['House_Temp'] == \"18-19\"),\n",
    "               (df_survey_final['House_Temp'] == \"20-21\"),\n",
    "               (df_survey_final['House_Temp'] == \"22-23\"),\n",
    "               (df_survey_final['House_Temp'] == \"24-25\"),\n",
    "               (df_survey_final['House_Temp'] == \"≥26\")]"
   ]
  },
  {
   "cell_type": "code",
   "execution_count": 41,
   "metadata": {},
   "outputs": [],
   "source": [
    "values4 = [19, 21, 23, 25, 26]"
   ]
  },
  {
   "cell_type": "code",
   "execution_count": 42,
   "metadata": {},
   "outputs": [],
   "source": [
    "# Here I assign each temperature values to the inherent conditions to a new dataframe column - House_Temperature:"
   ]
  },
  {
   "cell_type": "code",
   "execution_count": 43,
   "metadata": {},
   "outputs": [],
   "source": [
    "df_survey_final[\"House_temperature\"] = np.select(conditions4, values4)"
   ]
  },
  {
   "cell_type": "code",
   "execution_count": 44,
   "metadata": {},
   "outputs": [],
   "source": [
    "# Drop the obsolete dataframe columns - House_Temp:"
   ]
  },
  {
   "cell_type": "code",
   "execution_count": 45,
   "metadata": {},
   "outputs": [],
   "source": [
    "df_survey_final = df_survey_final.drop(['House_Temp'], axis=1)"
   ]
  },
  {
   "cell_type": "code",
   "execution_count": 46,
   "metadata": {},
   "outputs": [],
   "source": [
    "# Fill all NaN values with 0 within the N_x_Year_Fireplace dataframe column:"
   ]
  },
  {
   "cell_type": "code",
   "execution_count": 47,
   "metadata": {},
   "outputs": [],
   "source": [
    "df_survey_final['N_x_Year_Fireplace'] = df_survey_final['N_x_Year_Fireplace'].fillna(0)"
   ]
  },
  {
   "cell_type": "code",
   "execution_count": 48,
   "metadata": {},
   "outputs": [],
   "source": [
    "# Here I obtain the yearly times when voters who have a fireplace at home use it.\n",
    "# So, I assign values to each possible conditions in my dataframe as here below:"
   ]
  },
  {
   "cell_type": "code",
   "execution_count": 49,
   "metadata": {},
   "outputs": [],
   "source": [
    "conditions5 = [(df_survey_final['N_x_Year_Fireplace'] == 0),\n",
    "               (df_survey_final['N_x_Year_Fireplace'] == \"1 to 20\"),\n",
    "               (df_survey_final['N_x_Year_Fireplace'] == \"21 to 40\"),\n",
    "               (df_survey_final['N_x_Year_Fireplace'] == \"41 to 60\"),\n",
    "               (df_survey_final['N_x_Year_Fireplace'] == \"≥61\")]"
   ]
  },
  {
   "cell_type": "code",
   "execution_count": 50,
   "metadata": {},
   "outputs": [],
   "source": [
    "values5 = [0, 20, 40, 60, 80]"
   ]
  },
  {
   "cell_type": "code",
   "execution_count": 51,
   "metadata": {},
   "outputs": [],
   "source": [
    "# Here I assign the yearly values to the inherent conditions to a new dataframe column - Year_fireplace_times:"
   ]
  },
  {
   "cell_type": "code",
   "execution_count": 52,
   "metadata": {},
   "outputs": [],
   "source": [
    "df_survey_final[\"Year_fireplace_times\"] = np.select(conditions5, values5)"
   ]
  },
  {
   "cell_type": "code",
   "execution_count": 53,
   "metadata": {},
   "outputs": [],
   "source": [
    "# Here in order to get the monthly value I divide the yearly amount per 12,\n",
    "# creating a new dataframe column - Fireplace_use:"
   ]
  },
  {
   "cell_type": "code",
   "execution_count": 54,
   "metadata": {},
   "outputs": [],
   "source": [
    "df_survey_final['Fireplace_use'] = df_survey_final['Year_fireplace_times'].div(12).round(2)"
   ]
  },
  {
   "cell_type": "code",
   "execution_count": 55,
   "metadata": {},
   "outputs": [],
   "source": [
    "# Drop the obsolete dataframe columns - Year_fireplace_times & N_x_Year_Fireplace:"
   ]
  },
  {
   "cell_type": "code",
   "execution_count": 56,
   "metadata": {},
   "outputs": [],
   "source": [
    "df_survey_final = df_survey_final.drop(['Year_fireplace_times', 'N_x_Year_Fireplace'], axis=1)"
   ]
  },
  {
   "cell_type": "code",
   "execution_count": 57,
   "metadata": {},
   "outputs": [],
   "source": [
    "# Here I assign an hypothetical impact value based on the type of the adopted heating system at home.\n",
    "# Starting from the less polluted (Solar heating), to the higher one (Fireplace/Wood stove).\n",
    "# So, I assign values to each possible conditions in my dataframe as here below:"
   ]
  },
  {
   "cell_type": "code",
   "execution_count": 58,
   "metadata": {},
   "outputs": [],
   "source": [
    "conditions6 = [(df_survey_final['Heating_System'] == \"Solar heating\"),\n",
    "               (df_survey_final['Heating_System'] == \"Air conditioner\"),\n",
    "               (df_survey_final['Heating_System'] == \"Traditional floor heating\"),\n",
    "               (df_survey_final['Heating_System'] == \"Traditional radiator heating\"),\n",
    "               (df_survey_final['Heating_System'] == \"Pellet stove\"),\n",
    "               (df_survey_final['Heating_System'] == \"Fireplace/Wood stove\")]"
   ]
  },
  {
   "cell_type": "code",
   "execution_count": 59,
   "metadata": {},
   "outputs": [],
   "source": [
    "values6 = [0, 1, 2, 3, 4, 5]"
   ]
  },
  {
   "cell_type": "code",
   "execution_count": 60,
   "metadata": {},
   "outputs": [],
   "source": [
    "# Here I assign the values to each row based on the previous conditions to a new dataframe column - Heating_system_type:"
   ]
  },
  {
   "cell_type": "code",
   "execution_count": 61,
   "metadata": {},
   "outputs": [],
   "source": [
    "df_survey_final[\"Heating_system_type\"] = np.select(conditions6, values6)"
   ]
  },
  {
   "cell_type": "code",
   "execution_count": 62,
   "metadata": {},
   "outputs": [],
   "source": [
    "# Drop the obsolete dataframe columns - Heating_System:"
   ]
  },
  {
   "cell_type": "code",
   "execution_count": 63,
   "metadata": {},
   "outputs": [],
   "source": [
    "df_survey_final = df_survey_final.drop(['Heating_System'], axis=1)"
   ]
  },
  {
   "cell_type": "code",
   "execution_count": 64,
   "metadata": {},
   "outputs": [],
   "source": [
    "# Here I assign an hypothetical impact value based on the type of the adopted Transportation means.\n",
    "# Starting from the less polluted (Bicycle), to the higher one (Motor car).\n",
    "# So, I assign values to each possible conditions in my dataframe as here below:"
   ]
  },
  {
   "cell_type": "code",
   "execution_count": 65,
   "metadata": {},
   "outputs": [],
   "source": [
    "conditions7 = [(df_survey_final['Transport_Means'] == \"Bicycle\"),\n",
    "               (df_survey_final['Transport_Means'] == \"Public transport\"),\n",
    "               (df_survey_final['Transport_Means'] == \"Electric car\"),\n",
    "               (df_survey_final['Transport_Means'] == \"Hybrid car\"),\n",
    "               (df_survey_final['Transport_Means'] == \"Motorcycle\"),\n",
    "               (df_survey_final['Transport_Means'] == \"Motor car\")]"
   ]
  },
  {
   "cell_type": "code",
   "execution_count": 66,
   "metadata": {},
   "outputs": [],
   "source": [
    "values7 = [0, 1, 2, 3, 4, 5]"
   ]
  },
  {
   "cell_type": "code",
   "execution_count": 67,
   "metadata": {},
   "outputs": [],
   "source": [
    "# Here I assign the values to each row based on the previous conditions to a new dataframe column - Heating_system_type:"
   ]
  },
  {
   "cell_type": "code",
   "execution_count": 68,
   "metadata": {},
   "outputs": [],
   "source": [
    "df_survey_final[\"Transport_type\"] = np.select(conditions7, values7)"
   ]
  },
  {
   "cell_type": "code",
   "execution_count": 69,
   "metadata": {},
   "outputs": [],
   "source": [
    "# Drop the obsolete dataframe columns - Transport_Means:"
   ]
  },
  {
   "cell_type": "code",
   "execution_count": 70,
   "metadata": {},
   "outputs": [],
   "source": [
    "df_survey_final = df_survey_final.drop(['Transport_Means'], axis=1)"
   ]
  },
  {
   "cell_type": "code",
   "execution_count": 71,
   "metadata": {},
   "outputs": [],
   "source": [
    "# Here I substite all NaN values with 0 within the dataframe column N_x_Week_Use_Motor_Transport:"
   ]
  },
  {
   "cell_type": "code",
   "execution_count": 72,
   "metadata": {},
   "outputs": [],
   "source": [
    "df_survey_final['N_x_Week_Use_Motor_Transport'] = df_survey_final['N_x_Week_Use_Motor_Transport'].fillna(0)"
   ]
  },
  {
   "cell_type": "code",
   "execution_count": 73,
   "metadata": {},
   "outputs": [],
   "source": [
    "# Here I obtain the monthly times when voters used their transport means.\n",
    "# So, I assign values to each possible conditions in my dataframe as here below:"
   ]
  },
  {
   "cell_type": "code",
   "execution_count": 74,
   "metadata": {},
   "outputs": [],
   "source": [
    "conditions8 = [(df_survey_final['N_x_Week_Use_Motor_Transport'] == 0),\n",
    "               (df_survey_final['N_x_Week_Use_Motor_Transport'] == \"1 to 2\"),\n",
    "               (df_survey_final['N_x_Week_Use_Motor_Transport'] == \"3 to 4\"),\n",
    "               (df_survey_final['N_x_Week_Use_Motor_Transport'] == \"5 to 7\"),\n",
    "               (df_survey_final['N_x_Week_Use_Motor_Transport'] == \"8 to 14\"),\n",
    "               (df_survey_final['N_x_Week_Use_Motor_Transport'] == \"≥15\")]"
   ]
  },
  {
   "cell_type": "code",
   "execution_count": 75,
   "metadata": {},
   "outputs": [],
   "source": [
    "values8 = [0, 8, 16, 28, 56, 65]"
   ]
  },
  {
   "cell_type": "code",
   "execution_count": 76,
   "metadata": {},
   "outputs": [],
   "source": [
    "# Here I assign the values to each row based on the previous conditions to a new dataframe column - Transport_use:"
   ]
  },
  {
   "cell_type": "code",
   "execution_count": 77,
   "metadata": {},
   "outputs": [],
   "source": [
    "df_survey_final[\"Transport_use\"] = np.select(conditions8, values8)"
   ]
  },
  {
   "cell_type": "code",
   "execution_count": 78,
   "metadata": {},
   "outputs": [],
   "source": [
    "# Drop the obsolete dataframe columns - N_x_Week_Use_Motor_Transport:"
   ]
  },
  {
   "cell_type": "code",
   "execution_count": 79,
   "metadata": {},
   "outputs": [],
   "source": [
    "df_survey_final = df_survey_final.drop(['N_x_Week_Use_Motor_Transport'], axis=1)"
   ]
  },
  {
   "cell_type": "code",
   "execution_count": 80,
   "metadata": {},
   "outputs": [],
   "source": [
    "# Here I substite all NaN values with 0 within the dataframe column KM_x_Week_Motor_Transport:"
   ]
  },
  {
   "cell_type": "code",
   "execution_count": 81,
   "metadata": {},
   "outputs": [],
   "source": [
    "df_survey_final['KM_x_Week_Motor_Transport'] = df_survey_final['KM_x_Week_Motor_Transport'].fillna(0)"
   ]
  },
  {
   "cell_type": "code",
   "execution_count": 82,
   "metadata": {},
   "outputs": [],
   "source": [
    "# Here I obtain the monthly km driven for each voters.\n",
    "# So, I assign values to each possible conditions in my dataframe as here below:"
   ]
  },
  {
   "cell_type": "code",
   "execution_count": 83,
   "metadata": {},
   "outputs": [],
   "source": [
    "conditions9 = [(df_survey_final['KM_x_Week_Motor_Transport'] == 0),\n",
    "               (df_survey_final['KM_x_Week_Motor_Transport'] == \"1 to 50\"),\n",
    "               (df_survey_final['KM_x_Week_Motor_Transport'] == \"51 to 100\"),\n",
    "               (df_survey_final['KM_x_Week_Motor_Transport'] == \"101 to 200\"),\n",
    "               (df_survey_final['KM_x_Week_Motor_Transport'] == \"201 to 500\"),\n",
    "               (df_survey_final['KM_x_Week_Motor_Transport'] == \"≥500\")]"
   ]
  },
  {
   "cell_type": "code",
   "execution_count": 84,
   "metadata": {},
   "outputs": [],
   "source": [
    "values9 = [0, 200, 400, 800, 2000, 2500]"
   ]
  },
  {
   "cell_type": "code",
   "execution_count": 85,
   "metadata": {},
   "outputs": [],
   "source": [
    "# Here I assign the values to each row based on the previous conditions to a new dataframe column - Transport_km:"
   ]
  },
  {
   "cell_type": "code",
   "execution_count": 86,
   "metadata": {},
   "outputs": [],
   "source": [
    "df_survey_final[\"Transport_km\"] = np.select(conditions9, values9)"
   ]
  },
  {
   "cell_type": "code",
   "execution_count": 87,
   "metadata": {},
   "outputs": [],
   "source": [
    "# Drop the obsolete dataframe columns - KM_x_Week_Motor_Transport:"
   ]
  },
  {
   "cell_type": "code",
   "execution_count": 88,
   "metadata": {},
   "outputs": [],
   "source": [
    "df_survey_final = df_survey_final.drop(['KM_x_Week_Motor_Transport'], axis=1)"
   ]
  },
  {
   "cell_type": "code",
   "execution_count": 89,
   "metadata": {},
   "outputs": [],
   "source": [
    "# Here i re order the dataframe columns with logic order, placing next to each other inherent columns.\n",
    "# First I create a list with all the dataframe colum names\n",
    "# and then I assign the list to the dataframe using reindex function:"
   ]
  },
  {
   "cell_type": "code",
   "execution_count": 90,
   "metadata": {},
   "outputs": [],
   "source": [
    "column_names = [\"User\",\n",
    "                \"User_Gender\",\n",
    "                \"User_Age\",\n",
    "                \"Smoked_cigarette\",\n",
    "                \"Online_purchase\",\n",
    "                \"Offline_purchase\",\n",
    "                \"Meat_based_meals\",\n",
    "                \"Flights\",\n",
    "                \"M2_House\",\n",
    "                \"Heating_system_type\",\n",
    "                \"House_temperature\",\n",
    "                \"Fireplace\", \n",
    "                \"Fireplace_use\",\n",
    "                \"Transport_type\",\n",
    "                \"Transport_use\",\n",
    "                \"Transport_km\"]"
   ]
  },
  {
   "cell_type": "code",
   "execution_count": 91,
   "metadata": {},
   "outputs": [],
   "source": [
    "df_survey_final = df_survey_final.reindex(columns=column_names)"
   ]
  },
  {
   "cell_type": "code",
   "execution_count": 92,
   "metadata": {},
   "outputs": [],
   "source": [
    "# This final dataframe resume the monthly behavior for each voters about his/her:\n",
    "# 1- Gender and Age target;\n",
    "# 2- Number of cigarette smoked;\n",
    "# 3- Consumption expenditure behavior;\n",
    "# 4- Meat cunsumption behavior;\n",
    "# 5- Number of flights;\n",
    "# 6- Type of heating system and usege of it related to temperature and M2 of his/her house;\n",
    "# 7- Presence of not of a fireplce and its related usage;\n",
    "# 8- Transportation type and its related usage, about number of times and km driven."
   ]
  },
  {
   "cell_type": "code",
   "execution_count": 93,
   "metadata": {},
   "outputs": [
    {
     "data": {
      "text/html": [
       "<div>\n",
       "<style scoped>\n",
       "    .dataframe tbody tr th:only-of-type {\n",
       "        vertical-align: middle;\n",
       "    }\n",
       "\n",
       "    .dataframe tbody tr th {\n",
       "        vertical-align: top;\n",
       "    }\n",
       "\n",
       "    .dataframe thead th {\n",
       "        text-align: right;\n",
       "    }\n",
       "</style>\n",
       "<table border=\"1\" class=\"dataframe\">\n",
       "  <thead>\n",
       "    <tr style=\"text-align: right;\">\n",
       "      <th></th>\n",
       "      <th>User</th>\n",
       "      <th>User_Gender</th>\n",
       "      <th>User_Age</th>\n",
       "      <th>Smoked_cigarette</th>\n",
       "      <th>Online_purchase</th>\n",
       "      <th>Offline_purchase</th>\n",
       "      <th>Meat_based_meals</th>\n",
       "      <th>Flights</th>\n",
       "      <th>M2_House</th>\n",
       "      <th>Heating_system_type</th>\n",
       "      <th>House_temperature</th>\n",
       "      <th>Fireplace</th>\n",
       "      <th>Fireplace_use</th>\n",
       "      <th>Transport_type</th>\n",
       "      <th>Transport_use</th>\n",
       "      <th>Transport_km</th>\n",
       "    </tr>\n",
       "  </thead>\n",
       "  <tbody>\n",
       "    <tr>\n",
       "      <th>0</th>\n",
       "      <td>1</td>\n",
       "      <td>Woman</td>\n",
       "      <td>18 - 24</td>\n",
       "      <td>140</td>\n",
       "      <td>5</td>\n",
       "      <td>10</td>\n",
       "      <td>16</td>\n",
       "      <td>0.50</td>\n",
       "      <td>40</td>\n",
       "      <td>3</td>\n",
       "      <td>19</td>\n",
       "      <td>0</td>\n",
       "      <td>0.00</td>\n",
       "      <td>1</td>\n",
       "      <td>0</td>\n",
       "      <td>0</td>\n",
       "    </tr>\n",
       "    <tr>\n",
       "      <th>1</th>\n",
       "      <td>2</td>\n",
       "      <td>Man</td>\n",
       "      <td>25 - 30</td>\n",
       "      <td>140</td>\n",
       "      <td>5</td>\n",
       "      <td>5</td>\n",
       "      <td>28</td>\n",
       "      <td>0.67</td>\n",
       "      <td>120</td>\n",
       "      <td>2</td>\n",
       "      <td>21</td>\n",
       "      <td>0</td>\n",
       "      <td>0.00</td>\n",
       "      <td>5</td>\n",
       "      <td>16</td>\n",
       "      <td>400</td>\n",
       "    </tr>\n",
       "    <tr>\n",
       "      <th>2</th>\n",
       "      <td>3</td>\n",
       "      <td>Woman</td>\n",
       "      <td>18 - 24</td>\n",
       "      <td>140</td>\n",
       "      <td>5</td>\n",
       "      <td>5</td>\n",
       "      <td>16</td>\n",
       "      <td>0.33</td>\n",
       "      <td>35</td>\n",
       "      <td>3</td>\n",
       "      <td>23</td>\n",
       "      <td>0</td>\n",
       "      <td>0.00</td>\n",
       "      <td>1</td>\n",
       "      <td>0</td>\n",
       "      <td>0</td>\n",
       "    </tr>\n",
       "    <tr>\n",
       "      <th>3</th>\n",
       "      <td>4</td>\n",
       "      <td>Man</td>\n",
       "      <td>25 - 30</td>\n",
       "      <td>0</td>\n",
       "      <td>15</td>\n",
       "      <td>5</td>\n",
       "      <td>28</td>\n",
       "      <td>0.17</td>\n",
       "      <td>105</td>\n",
       "      <td>3</td>\n",
       "      <td>19</td>\n",
       "      <td>0</td>\n",
       "      <td>0.00</td>\n",
       "      <td>5</td>\n",
       "      <td>56</td>\n",
       "      <td>800</td>\n",
       "    </tr>\n",
       "    <tr>\n",
       "      <th>4</th>\n",
       "      <td>5</td>\n",
       "      <td>Man</td>\n",
       "      <td>18 - 24</td>\n",
       "      <td>280</td>\n",
       "      <td>5</td>\n",
       "      <td>5</td>\n",
       "      <td>28</td>\n",
       "      <td>0.17</td>\n",
       "      <td>123</td>\n",
       "      <td>3</td>\n",
       "      <td>21</td>\n",
       "      <td>0</td>\n",
       "      <td>0.00</td>\n",
       "      <td>5</td>\n",
       "      <td>28</td>\n",
       "      <td>400</td>\n",
       "    </tr>\n",
       "    <tr>\n",
       "      <th>5</th>\n",
       "      <td>6</td>\n",
       "      <td>Man</td>\n",
       "      <td>18 - 24</td>\n",
       "      <td>0</td>\n",
       "      <td>5</td>\n",
       "      <td>5</td>\n",
       "      <td>8</td>\n",
       "      <td>0.33</td>\n",
       "      <td>160</td>\n",
       "      <td>3</td>\n",
       "      <td>21</td>\n",
       "      <td>0</td>\n",
       "      <td>0.00</td>\n",
       "      <td>1</td>\n",
       "      <td>0</td>\n",
       "      <td>0</td>\n",
       "    </tr>\n",
       "    <tr>\n",
       "      <th>6</th>\n",
       "      <td>7</td>\n",
       "      <td>Woman</td>\n",
       "      <td>25 - 30</td>\n",
       "      <td>5</td>\n",
       "      <td>10</td>\n",
       "      <td>5</td>\n",
       "      <td>16</td>\n",
       "      <td>0.83</td>\n",
       "      <td>30</td>\n",
       "      <td>3</td>\n",
       "      <td>23</td>\n",
       "      <td>0</td>\n",
       "      <td>0.00</td>\n",
       "      <td>1</td>\n",
       "      <td>16</td>\n",
       "      <td>200</td>\n",
       "    </tr>\n",
       "    <tr>\n",
       "      <th>7</th>\n",
       "      <td>8</td>\n",
       "      <td>Man</td>\n",
       "      <td>18 - 24</td>\n",
       "      <td>0</td>\n",
       "      <td>5</td>\n",
       "      <td>5</td>\n",
       "      <td>28</td>\n",
       "      <td>0.17</td>\n",
       "      <td>150</td>\n",
       "      <td>3</td>\n",
       "      <td>19</td>\n",
       "      <td>1</td>\n",
       "      <td>1.67</td>\n",
       "      <td>5</td>\n",
       "      <td>56</td>\n",
       "      <td>200</td>\n",
       "    </tr>\n",
       "    <tr>\n",
       "      <th>8</th>\n",
       "      <td>9</td>\n",
       "      <td>Man</td>\n",
       "      <td>18 - 24</td>\n",
       "      <td>5</td>\n",
       "      <td>5</td>\n",
       "      <td>10</td>\n",
       "      <td>16</td>\n",
       "      <td>0.33</td>\n",
       "      <td>144</td>\n",
       "      <td>3</td>\n",
       "      <td>19</td>\n",
       "      <td>0</td>\n",
       "      <td>0.00</td>\n",
       "      <td>5</td>\n",
       "      <td>56</td>\n",
       "      <td>400</td>\n",
       "    </tr>\n",
       "    <tr>\n",
       "      <th>9</th>\n",
       "      <td>10</td>\n",
       "      <td>Woman</td>\n",
       "      <td>51 - 60</td>\n",
       "      <td>0</td>\n",
       "      <td>10</td>\n",
       "      <td>5</td>\n",
       "      <td>8</td>\n",
       "      <td>0.00</td>\n",
       "      <td>100</td>\n",
       "      <td>3</td>\n",
       "      <td>19</td>\n",
       "      <td>0</td>\n",
       "      <td>0.00</td>\n",
       "      <td>0</td>\n",
       "      <td>8</td>\n",
       "      <td>200</td>\n",
       "    </tr>\n",
       "  </tbody>\n",
       "</table>\n",
       "</div>"
      ],
      "text/plain": [
       "   User User_Gender User_Age  Smoked_cigarette  Online_purchase  \\\n",
       "0     1       Woman  18 - 24               140                5   \n",
       "1     2         Man  25 - 30               140                5   \n",
       "2     3       Woman  18 - 24               140                5   \n",
       "3     4         Man  25 - 30                 0               15   \n",
       "4     5         Man  18 - 24               280                5   \n",
       "5     6         Man  18 - 24                 0                5   \n",
       "6     7       Woman  25 - 30                 5               10   \n",
       "7     8         Man  18 - 24                 0                5   \n",
       "8     9         Man  18 - 24                 5                5   \n",
       "9    10       Woman  51 - 60                 0               10   \n",
       "\n",
       "   Offline_purchase  Meat_based_meals  Flights  M2_House  Heating_system_type  \\\n",
       "0                10                16     0.50        40                    3   \n",
       "1                 5                28     0.67       120                    2   \n",
       "2                 5                16     0.33        35                    3   \n",
       "3                 5                28     0.17       105                    3   \n",
       "4                 5                28     0.17       123                    3   \n",
       "5                 5                 8     0.33       160                    3   \n",
       "6                 5                16     0.83        30                    3   \n",
       "7                 5                28     0.17       150                    3   \n",
       "8                10                16     0.33       144                    3   \n",
       "9                 5                 8     0.00       100                    3   \n",
       "\n",
       "   House_temperature  Fireplace  Fireplace_use  Transport_type  Transport_use  \\\n",
       "0                 19          0           0.00               1              0   \n",
       "1                 21          0           0.00               5             16   \n",
       "2                 23          0           0.00               1              0   \n",
       "3                 19          0           0.00               5             56   \n",
       "4                 21          0           0.00               5             28   \n",
       "5                 21          0           0.00               1              0   \n",
       "6                 23          0           0.00               1             16   \n",
       "7                 19          1           1.67               5             56   \n",
       "8                 19          0           0.00               5             56   \n",
       "9                 19          0           0.00               0              8   \n",
       "\n",
       "   Transport_km  \n",
       "0             0  \n",
       "1           400  \n",
       "2             0  \n",
       "3           800  \n",
       "4           400  \n",
       "5             0  \n",
       "6           200  \n",
       "7           200  \n",
       "8           400  \n",
       "9           200  "
      ]
     },
     "execution_count": 93,
     "metadata": {},
     "output_type": "execute_result"
    }
   ],
   "source": [
    "df_survey_final.head(10)"
   ]
  },
  {
   "cell_type": "code",
   "execution_count": 94,
   "metadata": {},
   "outputs": [],
   "source": [
    "# Save final csv file with the name of df_survey_z_score:"
   ]
  },
  {
   "cell_type": "code",
   "execution_count": 95,
   "metadata": {},
   "outputs": [],
   "source": [
    "df_survey_final.to_csv('df_survey_z_score.csv', index=False)"
   ]
  },
  {
   "cell_type": "code",
   "execution_count": 96,
   "metadata": {},
   "outputs": [],
   "source": [
    "# Import last final dataframe and quick overview:"
   ]
  },
  {
   "cell_type": "code",
   "execution_count": 97,
   "metadata": {},
   "outputs": [],
   "source": [
    "df_survey_z_score = pd.read_csv(\"df_survey_z_score.csv\")"
   ]
  },
  {
   "cell_type": "code",
   "execution_count": 101,
   "metadata": {},
   "outputs": [],
   "source": [
    "#print(df_survey_z_score.head(10))\n",
    "#print(df_survey_z_score.shape)\n",
    "#print(df_survey_z_score.info())"
   ]
  }
 ],
 "metadata": {
  "kernelspec": {
   "display_name": "Python 3",
   "language": "python",
   "name": "python3"
  },
  "language_info": {
   "codemirror_mode": {
    "name": "ipython",
    "version": 3
   },
   "file_extension": ".py",
   "mimetype": "text/x-python",
   "name": "python",
   "nbconvert_exporter": "python",
   "pygments_lexer": "ipython3",
   "version": "3.8.3"
  }
 },
 "nbformat": 4,
 "nbformat_minor": 4
}
