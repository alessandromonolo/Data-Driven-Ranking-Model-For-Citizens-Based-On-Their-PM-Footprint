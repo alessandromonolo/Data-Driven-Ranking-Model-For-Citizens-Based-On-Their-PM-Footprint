{
 "cells": [
  {
   "cell_type": "markdown",
   "metadata": {},
   "source": [
    "**Graduation Project**: PM Footprint calculator based on citizen behavior related to fine dust emissions.\n",
    "\n",
    "Student: **Alessandro Monolo** | 1790210\n",
    "\n",
    "GP supervisor: Angelique Ruiter\n",
    "\n",
    "Master Data-Driven Design, Hogeschool Utrecht.\n",
    "\n",
    "Academical Year: 2021/2022, Block C."
   ]
  },
  {
   "cell_type": "markdown",
   "metadata": {},
   "source": [
    "## 0 -  Survey Dataframe translation from ITA to ENG & first Data Cleaning"
   ]
  },
  {
   "cell_type": "code",
   "execution_count": 116,
   "metadata": {},
   "outputs": [],
   "source": [
    "# Import the Python Libraries I need to clean, pre-process and visualize the data contained into the survey PM dataframe:"
   ]
  },
  {
   "cell_type": "code",
   "execution_count": 44,
   "metadata": {},
   "outputs": [],
   "source": [
    "import pandas as pd\n",
    "import numpy as np\n",
    "import matplotlib.pyplot as plt\n",
    "import seaborn as sns\n",
    "%matplotlib inline"
   ]
  },
  {
   "cell_type": "code",
   "execution_count": 45,
   "metadata": {},
   "outputs": [],
   "source": [
    "DF_Survey_PM = pd.read_csv(\"Survey_Lombardy_PM_Footprint.csv\", index_col=False)"
   ]
  },
  {
   "cell_type": "code",
   "execution_count": 46,
   "metadata": {},
   "outputs": [],
   "source": [
    "DF_Survey_PM.drop('Informazioni cronologiche', axis=1, inplace=True)"
   ]
  },
  {
   "cell_type": "code",
   "execution_count": 47,
   "metadata": {},
   "outputs": [
    {
     "name": "stdout",
     "output_type": "stream",
     "text": [
      "(164, 17)\n"
     ]
    }
   ],
   "source": [
    "print(DF_Survey_PM.shape)"
   ]
  },
  {
   "cell_type": "code",
   "execution_count": 48,
   "metadata": {},
   "outputs": [
    {
     "name": "stdout",
     "output_type": "stream",
     "text": [
      "Qual è il tuo sesso?\n",
      "Qual è la tua etá in questo momento?\n",
      "Qual è la tua provincia di residenza? (Esprimi la tua risposta selezionando la cittá presente tra le 12 province Lombarde).\n",
      "Sei un fumatore?\n",
      "Nel caso di una precedente risposta positiva (si, fumo quotidianamente), esprimi ora il numero di sigarette fumate ogni giorno:\n",
      "Qual è il tuo principale mezzo di trasposto?\n",
      "Quante volte usi la macchina (o un personale mezzo di trasporto a motore) durante l'arco della settimana?\n",
      "Quanti Km percorri con la macchina (o il tuo mezzo di trasporto a motore) ogni settimana?\n",
      "Quanti metri quadrati è grande la tua abitazione? (Esprimi la risposta solo in numeri, esempio: 105)\n",
      "Quale tipo di impianto di riscaldamento utilizzi all'interno della tua abitazione?\n",
      "Durante i mesi freddi, a che temperatura tendi ad impostare il tuo impianto di riscaldamento?\n",
      "Possiedi un camino o una stufa a legna?\n",
      "Se hai votato si all'ultima domanda, quante volte lo utilizzi durante l'arco di un anno?\n",
      "In media, quanti voli effettui durante l'anno? (ogni volo conta come 1, quindi i voli composti da ''Andata + Ritorno'' valgono come 2). Scrivi la risposta solo in numero:\n",
      "Quanti acquisti on-line effettui ogni mese? (Selezionare una delle possibili risposte in base agli acquisti di beni materiali effettuati Online, escludendo le spese alimentari)\n",
      "Quanti acquisti non on-line effettui ogni mese? (Selezionare una delle possibili risposte in base agli acquisti di beni materiali effettuati Non-Online, escludendo le spese alimentari)\n",
      "Quante volte alla settimana mangi cibi contenenti carne (o a base di carne)?\n"
     ]
    }
   ],
   "source": [
    "for col in DF_Survey_PM.columns:\n",
    "    print(col)"
   ]
  },
  {
   "cell_type": "code",
   "execution_count": 49,
   "metadata": {},
   "outputs": [],
   "source": [
    "DF_Survey_PM.rename(columns={\"Qual è il tuo sesso?\": \"User_Gender\",\n",
    "                             \"Qual è la tua etá in questo momento?\": \"User_Age\",\n",
    "                            \"Qual è la tua provincia di residenza? (Esprimi la tua risposta selezionando la cittá presente tra le 12 province Lombarde).\": \"User_Province\",\n",
    "                            \"Sei un fumatore?\": \"Smoker_Type\",\n",
    "                            \"Nel caso di una precedente risposta positiva (si, fumo quotidianamente), esprimi ora il numero di sigarette fumate ogni giorno:\": \"N_Cigarette_Daily_Smoker\",\n",
    "                            \"Qual è il tuo principale mezzo di trasposto?\": \"Transport_Means\",\n",
    "                            \"Quante volte usi la macchina (o un personale mezzo di trasporto a motore) durante l'arco della settimana?\": \"N_x_Week_Use_Motor_Transport\",\n",
    "                            \"Quanti Km percorri con la macchina (o il tuo mezzo di trasporto a motore) ogni settimana?\": \"KM_x_Week_Motor_Transport\",\n",
    "                            \"Quanti metri quadrati è grande la tua abitazione? (Esprimi la risposta solo in numeri, esempio: 105)\": \"M2_House\",\n",
    "                            \"Quale tipo di impianto di riscaldamento utilizzi all'interno della tua abitazione?\": \"Heating_System\",\n",
    "                            \"Durante i mesi freddi, a che temperatura tendi ad impostare il tuo impianto di riscaldamento?\": \"House_Temp\",\n",
    "                            \"Possiedi un camino o una stufa a legna?\": \"Fireplace\",\n",
    "                            \"Se hai votato si all'ultima domanda, quante volte lo utilizzi durante l'arco di un anno?\": \"N_x_Year_Fireplace\",\n",
    "                            \"In media, quanti voli effettui durante l'anno? (ogni volo conta come 1, quindi i voli composti da ''Andata + Ritorno'' valgono come 2). Scrivi la risposta solo in numero:\": \"N_Flights_x_Year\",\n",
    "                            \"Quanti acquisti on-line effettui ogni mese? (Selezionare una delle possibili risposte in base agli acquisti di beni materiali effettuati Online, escludendo le spese alimentari)\": \"N_On-Line_Purchase_x_Month\",\n",
    "                            \"Quanti acquisti non on-line effettui ogni mese? (Selezionare una delle possibili risposte in base agli acquisti di beni materiali effettuati Non-Online, escludendo le spese alimentari)\": \"N_Off-Line_Purchase_x_Month\",\n",
    "                            \"Quante volte alla settimana mangi cibi contenenti carne (o a base di carne)?\": \"Days_meatmeal_x_Week\"}\n",
    "                    , inplace=True)"
   ]
  },
  {
   "cell_type": "code",
   "execution_count": 50,
   "metadata": {},
   "outputs": [
    {
     "name": "stdout",
     "output_type": "stream",
     "text": [
      "User_Gender\n",
      "User_Age\n",
      "User_Province\n",
      "Smoker_Type\n",
      "N_Cigarette_Daily_Smoker\n",
      "Transport_Means\n",
      "N_x_Week_Use_Motor_Transport\n",
      "KM_x_Week_Motor_Transport\n",
      "M2_House\n",
      "Heating_System\n",
      "House_Temp\n",
      "Fireplace\n",
      "N_x_Year_Fireplace\n",
      "N_Flights_x_Year\n",
      "N_On-Line_Purchase_x_Month\n",
      "N_Off-Line_Purchase_x_Month\n",
      "Days_meatmeal_x_Week\n"
     ]
    }
   ],
   "source": [
    "for col in DF_Survey_PM.columns:\n",
    "    print(col)"
   ]
  },
  {
   "cell_type": "code",
   "execution_count": 51,
   "metadata": {},
   "outputs": [],
   "source": [
    "DF_Survey_PM.loc[DF_Survey_PM['User_Gender'].str.contains('Donna', case=False), 'User_Gender'] = 'Woman'\n",
    "DF_Survey_PM.loc[DF_Survey_PM['User_Gender'].str.contains('Uomo', case=False), 'User_Gender'] = 'Man'\n",
    "DF_Survey_PM.loc[DF_Survey_PM['User_Gender'].str.contains('Non-Binario', case=False), 'User_Gender'] = 'Non-Binary'"
   ]
  },
  {
   "cell_type": "code",
   "execution_count": 52,
   "metadata": {},
   "outputs": [],
   "source": [
    "DF_Survey_PM.loc[DF_Survey_PM['User_Age'].str.contains('Piú di 50', case=False), 'User_Age'] = '51 - 60'"
   ]
  },
  {
   "cell_type": "code",
   "execution_count": 53,
   "metadata": {},
   "outputs": [],
   "source": [
    "DF_Survey_PM.loc[DF_Survey_PM['Smoker_Type'].str.contains('No, mai', case=False), 'Smoker_Type'] = 'No smoker'\n",
    "DF_Survey_PM.loc[DF_Survey_PM['Smoker_Type'].str.contains('Si, fumo quotidianamente', case=False), 'Smoker_Type'] = 'Daily Smoker'"
   ]
  },
  {
   "cell_type": "code",
   "execution_count": 54,
   "metadata": {},
   "outputs": [],
   "source": [
    "DF_Survey_PM['Smoker_Type'] = DF_Survey_PM['Smoker_Type'].apply(lambda string: string.replace(\"(\",\"\").replace(\")\",\"\"))"
   ]
  },
  {
   "cell_type": "code",
   "execution_count": 55,
   "metadata": {},
   "outputs": [],
   "source": [
    "DF_Survey_PM.loc[DF_Survey_PM['Smoker_Type'].str.contains(\"Raramente indicativamente 3/5 sigarette al mese\", case=False), 'Smoker_Type'] = '3 to 5 month'\n",
    "DF_Survey_PM.loc[DF_Survey_PM['Smoker_Type'].str.contains(\"Occasionalmente indicativamente 3/5 sigarette a settimana\", case=False), 'Smoker_Type'] = '3 to 5 week'"
   ]
  },
  {
   "cell_type": "code",
   "execution_count": 56,
   "metadata": {},
   "outputs": [],
   "source": [
    "DF_Survey_PM['N_Cigarette_Daily_Smoker'].fillna('', inplace=True)"
   ]
  },
  {
   "cell_type": "code",
   "execution_count": 57,
   "metadata": {},
   "outputs": [],
   "source": [
    "DF_Survey_PM.loc[DF_Survey_PM.Smoker_Type != \"Daily Smoker\", \"N_Cigarette_Daily_Smoker\"] = \"\""
   ]
  },
  {
   "cell_type": "code",
   "execution_count": 58,
   "metadata": {},
   "outputs": [],
   "source": [
    "DF_Survey_PM.loc[DF_Survey_PM['N_Cigarette_Daily_Smoker'].str.contains(\"Da 1 a 5 sigarette ogni giorno.\", case=False), 'N_Cigarette_Daily_Smoker'] = '1 to 5'\n",
    "DF_Survey_PM.loc[DF_Survey_PM['N_Cigarette_Daily_Smoker'].str.contains(\"Da 6 a 10 sigarette ogni giorno.\", case=False), 'N_Cigarette_Daily_Smoker'] = '6 to 10'\n",
    "DF_Survey_PM.loc[DF_Survey_PM['N_Cigarette_Daily_Smoker'].str.contains(\"Da 11 a 15 sigarette ogni giorno.\", case=False), 'N_Cigarette_Daily_Smoker'] = '11 to 15'\n",
    "DF_Survey_PM.loc[DF_Survey_PM['N_Cigarette_Daily_Smoker'].str.contains(\"Da 16 a 20 sigarette ogni giorno.\", case=False), 'N_Cigarette_Daily_Smoker'] = '16 to 20'"
   ]
  },
  {
   "cell_type": "code",
   "execution_count": 59,
   "metadata": {},
   "outputs": [],
   "source": [
    "DF_Survey_PM['Transport_Means'] = DF_Survey_PM['Transport_Means'].apply(lambda string: string.replace(\"(\",\"\").replace(\")\",\"\"))"
   ]
  },
  {
   "cell_type": "code",
   "execution_count": 60,
   "metadata": {},
   "outputs": [],
   "source": [
    "DF_Survey_PM.loc[DF_Survey_PM['Transport_Means'].str.contains(\"Automobile a motore\", case=False), 'Transport_Means'] = 'Motor car'\n",
    "DF_Survey_PM.loc[DF_Survey_PM['Transport_Means'].str.contains(\"Mezzo di trasporto pubblico Bus, tram, metro, treno\", case=False), 'Transport_Means'] = 'Public transport'\n",
    "DF_Survey_PM.loc[DF_Survey_PM['Transport_Means'].str.contains(\"Bicicletta\", case=False), 'Transport_Means'] = 'Bicycle'\n",
    "DF_Survey_PM.loc[DF_Survey_PM['Transport_Means'].str.contains(\"Automobile ibrida\", case=False), 'Transport_Means'] = 'Hybrid car'\n",
    "DF_Survey_PM.loc[DF_Survey_PM['Transport_Means'].str.contains(\"Ciclomotore moto, scooter\", case=False), 'Transport_Means'] = 'Motorcycle'\n",
    "DF_Survey_PM.loc[DF_Survey_PM['Transport_Means'].str.contains(\"Automobile elettrica\", case=False), 'Transport_Means'] = 'Electric car'"
   ]
  },
  {
   "cell_type": "code",
   "execution_count": 61,
   "metadata": {},
   "outputs": [],
   "source": [
    "DF_Survey_PM['N_x_Week_Use_Motor_Transport'].fillna('', inplace=True)"
   ]
  },
  {
   "cell_type": "code",
   "execution_count": 62,
   "metadata": {},
   "outputs": [],
   "source": [
    "DF_Survey_PM.loc[DF_Survey_PM['N_x_Week_Use_Motor_Transport'].str.contains(\"Piú di 15 volte\", case=False), 'N_x_Week_Use_Motor_Transport'] = '≥15'\n",
    "DF_Survey_PM.loc[DF_Survey_PM['N_x_Week_Use_Motor_Transport'].str.contains(\"8 / 14 volte\", case=False), 'N_x_Week_Use_Motor_Transport'] = '8 to 14'\n",
    "DF_Survey_PM.loc[DF_Survey_PM['N_x_Week_Use_Motor_Transport'].str.contains(\"5/7 volte\", case=False), 'N_x_Week_Use_Motor_Transport'] = '5 to 7'\n",
    "DF_Survey_PM.loc[DF_Survey_PM['N_x_Week_Use_Motor_Transport'].str.contains(\"3 /4 volte\", case=False), 'N_x_Week_Use_Motor_Transport'] = '3 to 4'\n",
    "DF_Survey_PM.loc[DF_Survey_PM['N_x_Week_Use_Motor_Transport'].str.contains(\"1 / 2 volte\", case=False), 'N_x_Week_Use_Motor_Transport'] = '1 to 2'"
   ]
  },
  {
   "cell_type": "code",
   "execution_count": 63,
   "metadata": {},
   "outputs": [],
   "source": [
    "DF_Survey_PM['KM_x_Week_Motor_Transport'].fillna('', inplace=True)"
   ]
  },
  {
   "cell_type": "code",
   "execution_count": 64,
   "metadata": {},
   "outputs": [],
   "source": [
    "DF_Survey_PM.loc[DF_Survey_PM['KM_x_Week_Motor_Transport'].str.contains(\"Da 1 a 50\", case=False), 'KM_x_Week_Motor_Transport'] = '1 to 50'\n",
    "DF_Survey_PM.loc[DF_Survey_PM['KM_x_Week_Motor_Transport'].str.contains(\"Da 51 a 100\", case=False), 'KM_x_Week_Motor_Transport'] = '51 to 100'\n",
    "DF_Survey_PM.loc[DF_Survey_PM['KM_x_Week_Motor_Transport'].str.contains(\"Da 101 a 200\", case=False), 'KM_x_Week_Motor_Transport'] = '101 to 200'\n",
    "DF_Survey_PM.loc[DF_Survey_PM['KM_x_Week_Motor_Transport'].str.contains(\"Da 201 a 500\", case=False), 'KM_x_Week_Motor_Transport'] = '201 to 500'\n",
    "DF_Survey_PM.loc[DF_Survey_PM['KM_x_Week_Motor_Transport'].str.contains(\"Piú di 500\", case=False), 'KM_x_Week_Motor_Transport'] = '≥500'"
   ]
  },
  {
   "cell_type": "code",
   "execution_count": 65,
   "metadata": {},
   "outputs": [],
   "source": [
    "DF_Survey_PM['M2_House'] = DF_Survey_PM['M2_House'].apply(lambda string: string.replace(\" m2\",\"\").replace(\" metri quadri\",\"\").replace(\"Boh\",\"\").replace(\"mq\",\"\").replace(\"No so\",\"\").replace(\"-\",\"\").replace('50/60','55'))"
   ]
  },
  {
   "cell_type": "code",
   "execution_count": 66,
   "metadata": {},
   "outputs": [],
   "source": [
    "DF_Survey_PM[\"M2_House\"] = pd.to_numeric(DF_Survey_PM[\"M2_House\"], errors = 'coerce')"
   ]
  },
  {
   "cell_type": "code",
   "execution_count": 67,
   "metadata": {},
   "outputs": [],
   "source": [
    "DF_Survey_PM['M2_House'].fillna(DF_Survey_PM['M2_House'].mean(), inplace=True)"
   ]
  },
  {
   "cell_type": "code",
   "execution_count": 68,
   "metadata": {},
   "outputs": [],
   "source": [
    "for col in DF_Survey_PM.columns:\n",
    "    M2_House_Mean = DF_Survey_PM['M2_House'].mean()\n",
    "    DF_Survey_PM['M2_House'] = DF_Survey_PM['M2_House'].replace(0, M2_House_Mean)"
   ]
  },
  {
   "cell_type": "code",
   "execution_count": 69,
   "metadata": {},
   "outputs": [],
   "source": [
    "DF_Survey_PM['M2_House'] = DF_Survey_PM['M2_House'].astype(np.int64)"
   ]
  },
  {
   "cell_type": "code",
   "execution_count": 70,
   "metadata": {},
   "outputs": [],
   "source": [
    "#M2_House = DF_Survey_PM.dtypes['M2_House']\n",
    "#print('Data type of M2_house column in DF_Survey_PM:')\n",
    "#print(M2_House)"
   ]
  },
  {
   "cell_type": "code",
   "execution_count": 71,
   "metadata": {},
   "outputs": [],
   "source": [
    "#DF_Survey_PM['M2_House'].value_counts()"
   ]
  },
  {
   "cell_type": "code",
   "execution_count": 72,
   "metadata": {},
   "outputs": [],
   "source": [
    "DF_Survey_PM['Heating_System'] = DF_Survey_PM['Heating_System'].apply(lambda string: string.replace(\"(\",\"\").replace(\")\",\"\"))"
   ]
  },
  {
   "cell_type": "code",
   "execution_count": 73,
   "metadata": {},
   "outputs": [],
   "source": [
    "DF_Survey_PM['Heating_System'] = DF_Survey_PM['Heating_System'].str.lower()"
   ]
  },
  {
   "cell_type": "code",
   "execution_count": 74,
   "metadata": {},
   "outputs": [],
   "source": [
    "DF_Survey_PM.loc[DF_Survey_PM['Heating_System'].str.contains(\"riscaldamento tradizionale termosifoni\", case=False), 'Heating_System'] = 'Traditional radiator heating'\n",
    "DF_Survey_PM.loc[DF_Survey_PM['Heating_System'].str.contains(\"riscaldamento tradizionale a pavimento\", case=False), 'Heating_System'] = 'Traditional floor heating'\n",
    "DF_Survey_PM.loc[DF_Survey_PM['Heating_System'].str.contains(\"caldaia a gas\", case=False), 'Heating_System'] = 'Traditional radiator heating'\n",
    "DF_Survey_PM.loc[DF_Survey_PM['Heating_System'].str.contains(\"riscaldamento da energia solare\", case=False), 'Heating_System'] = 'Solar heating'\n",
    "DF_Survey_PM.loc[DF_Survey_PM['Heating_System'].str.contains(\"stufa a pellet\", case=False), 'Heating_System'] = 'Pellet stove'\n",
    "DF_Survey_PM.loc[DF_Survey_PM['Heating_System'].str.contains(\"caldaia a pellet\", case=False), 'Heating_System'] = 'Pellet stove'\n",
    "DF_Survey_PM.loc[DF_Survey_PM['Heating_System'].str.contains(\"camino\", case=False), 'Heating_System'] = 'Fireplace/Wood stove'\n",
    "DF_Survey_PM.loc[DF_Survey_PM['Heating_System'].str.contains(\"condizionatori\", case=False), 'Heating_System'] = 'Air conditioner'"
   ]
  },
  {
   "cell_type": "code",
   "execution_count": 75,
   "metadata": {},
   "outputs": [],
   "source": [
    "DF_Survey_PM.loc[DF_Survey_PM['House_Temp'].str.contains(\"20/21 gradi\", case=False), 'House_Temp'] = '20-21'\n",
    "DF_Survey_PM.loc[DF_Survey_PM['House_Temp'].str.contains(\"18/19 gradi\", case=False), 'House_Temp'] = '18-19'\n",
    "DF_Survey_PM.loc[DF_Survey_PM['House_Temp'].str.contains(\"22/23 gradi\", case=False), 'House_Temp'] = '22-23'\n",
    "DF_Survey_PM.loc[DF_Survey_PM['House_Temp'].str.contains(\"24/25 gradi\", case=False), 'House_Temp'] = '24-25'\n",
    "DF_Survey_PM.loc[DF_Survey_PM['House_Temp'].str.contains(\"Piú di 26 gradi\", case=False), 'House_Temp'] = '≥26'"
   ]
  },
  {
   "cell_type": "code",
   "execution_count": 76,
   "metadata": {},
   "outputs": [],
   "source": [
    "DF_Survey_PM.loc[DF_Survey_PM['Fireplace'].str.contains(\"No\", case=False), 'Fireplace'] = \"0\"\n",
    "DF_Survey_PM.loc[DF_Survey_PM['Fireplace'].str.contains(\"Si\", case=False), 'Fireplace'] = \"1\""
   ]
  },
  {
   "cell_type": "code",
   "execution_count": 77,
   "metadata": {},
   "outputs": [],
   "source": [
    "DF_Survey_PM['Fireplace'] = DF_Survey_PM['Fireplace'].astype(np.int64)"
   ]
  },
  {
   "cell_type": "code",
   "execution_count": 78,
   "metadata": {},
   "outputs": [],
   "source": [
    "DF_Survey_PM['N_x_Year_Fireplace'].fillna('', inplace=True)"
   ]
  },
  {
   "cell_type": "code",
   "execution_count": 79,
   "metadata": {},
   "outputs": [],
   "source": [
    "DF_Survey_PM.loc[DF_Survey_PM.N_x_Year_Fireplace == '', \"Fireplace\"] = 0"
   ]
  },
  {
   "cell_type": "code",
   "execution_count": 80,
   "metadata": {},
   "outputs": [],
   "source": [
    "DF_Survey_PM.loc[DF_Survey_PM['N_x_Year_Fireplace'].str.contains(\"Da 1 a 20 volte\", case=False), 'N_x_Year_Fireplace'] = '1 to 20'\n",
    "DF_Survey_PM.loc[DF_Survey_PM['N_x_Year_Fireplace'].str.contains(\"Piú di 60 volte\", case=False), 'N_x_Year_Fireplace'] = '≥61'\n",
    "DF_Survey_PM.loc[DF_Survey_PM['N_x_Year_Fireplace'].str.contains(\"Da 21 a 40 volte\", case=False), 'N_x_Year_Fireplace'] = '21 to 40'\n",
    "DF_Survey_PM.loc[DF_Survey_PM['N_x_Year_Fireplace'].str.contains(\"Da 41 a 60 volte\", case=False), 'N_x_Year_Fireplace'] = '41 to 60'"
   ]
  },
  {
   "cell_type": "code",
   "execution_count": 81,
   "metadata": {},
   "outputs": [],
   "source": [
    "DF_Survey_PM['N_Flights_x_Year'] = DF_Survey_PM['N_Flights_x_Year'].str.lower()"
   ]
  },
  {
   "cell_type": "code",
   "execution_count": 82,
   "metadata": {},
   "outputs": [],
   "source": [
    "DF_Survey_PM['N_Flights_x_Year'] = DF_Survey_PM['N_Flights_x_Year'].apply(lambda string: string.replace(\"⁹\",\"\"))"
   ]
  },
  {
   "cell_type": "code",
   "execution_count": 83,
   "metadata": {},
   "outputs": [],
   "source": [
    "DF_Survey_PM.loc[DF_Survey_PM['N_Flights_x_Year'].str.contains(\"zero\", case=False), 'N_Flights_x_Year'] = '0'\n",
    "DF_Survey_PM.loc[DF_Survey_PM['N_Flights_x_Year'].str.contains(\"non faccio\", case=False), 'N_Flights_x_Year'] = '0'\n",
    "DF_Survey_PM.loc[DF_Survey_PM['N_Flights_x_Year'].str.contains(\"nessuna\", case=False), 'N_Flights_x_Year'] = '0'\n",
    "DF_Survey_PM.loc[DF_Survey_PM['N_Flights_x_Year'].str.contains(\"li\", case=False), 'N_Flights_x_Year'] = '6'"
   ]
  },
  {
   "cell_type": "code",
   "execution_count": 84,
   "metadata": {},
   "outputs": [],
   "source": [
    "DF_Survey_PM.loc[DF_Survey_PM['N_Flights_x_Year'].str.contains(\"o\", case=False), 'N_Flights_x_Year'] = '1'"
   ]
  },
  {
   "cell_type": "code",
   "execution_count": 85,
   "metadata": {},
   "outputs": [],
   "source": [
    "DF_Survey_PM['N_Flights_x_Year'] = DF_Survey_PM['N_Flights_x_Year'].astype(np.int64)"
   ]
  },
  {
   "cell_type": "code",
   "execution_count": 86,
   "metadata": {},
   "outputs": [],
   "source": [
    "DF_Survey_PM.loc[DF_Survey_PM.N_Flights_x_Year == 126, \"N_Flights_x_Year\"] = 20"
   ]
  },
  {
   "cell_type": "code",
   "execution_count": 87,
   "metadata": {},
   "outputs": [],
   "source": [
    "DF_Survey_PM.loc[DF_Survey_PM['N_On-Line_Purchase_x_Month'].str.contains(\"Da 1 a 5 prodotti\", case=False), 'N_On-Line_Purchase_x_Month'] = '1 to 5'\n",
    "DF_Survey_PM.loc[DF_Survey_PM['N_On-Line_Purchase_x_Month'].str.contains(\"Da 6 a 10 prodotti\", case=False), 'N_On-Line_Purchase_x_Month'] = '6 to 10'\n",
    "DF_Survey_PM.loc[DF_Survey_PM['N_On-Line_Purchase_x_Month'].str.contains(\"Da 11 a 15 prodotti\", case=False), 'N_On-Line_Purchase_x_Month'] = '11 to 15'\n",
    "DF_Survey_PM.loc[DF_Survey_PM['N_On-Line_Purchase_x_Month'].str.contains(\"Da 16 a 20 prodotti\", case=False), 'N_On-Line_Purchase_x_Month'] = '16 to 20'"
   ]
  },
  {
   "cell_type": "code",
   "execution_count": 88,
   "metadata": {},
   "outputs": [],
   "source": [
    "#Flights = DF_Survey_PM.dtypes['N_Flights_x_Year']\n",
    "#print('Data type of M2_house column in DF_Survey_PM:')\n",
    "#print(Flights)"
   ]
  },
  {
   "cell_type": "code",
   "execution_count": 89,
   "metadata": {},
   "outputs": [],
   "source": [
    "DF_Survey_PM.loc[DF_Survey_PM['N_Off-Line_Purchase_x_Month'].str.contains(\"Da 1 a 5 prodotti\", case=False), 'N_Off-Line_Purchase_x_Month'] = '1 to 5'\n",
    "DF_Survey_PM.loc[DF_Survey_PM['N_Off-Line_Purchase_x_Month'].str.contains(\"Da 6 a 10 prodotti\", case=False), 'N_Off-Line_Purchase_x_Month'] = '6 to 10'\n",
    "DF_Survey_PM.loc[DF_Survey_PM['N_Off-Line_Purchase_x_Month'].str.contains(\"Da 11 a 15 prodotti\", case=False), 'N_Off-Line_Purchase_x_Month'] = '11 to 15'\n",
    "DF_Survey_PM.loc[DF_Survey_PM['N_Off-Line_Purchase_x_Month'].str.contains(\"Da 16 a 20 prodotti\", case=False), 'N_Off-Line_Purchase_x_Month'] = '16 to 20'\n",
    "DF_Survey_PM.loc[DF_Survey_PM['N_Off-Line_Purchase_x_Month'].str.contains(\"Piú di 21 prodotti\", case=False), 'N_Off-Line_Purchase_x_Month'] = '≥21'"
   ]
  },
  {
   "cell_type": "code",
   "execution_count": 90,
   "metadata": {},
   "outputs": [],
   "source": [
    "DF_Survey_PM.loc[DF_Survey_PM['Days_meatmeal_x_Week'].str.contains(\"1/2 volte\", case=False), 'Days_meatmeal_x_Week'] = '1 to 2'\n",
    "DF_Survey_PM.loc[DF_Survey_PM['Days_meatmeal_x_Week'].str.contains(\"3/4 volte\", case=False), 'Days_meatmeal_x_Week'] = '3 to 4'\n",
    "DF_Survey_PM.loc[DF_Survey_PM['Days_meatmeal_x_Week'].str.contains(\"Tutti i giorni\", case=False), 'Days_meatmeal_x_Week'] = '7'"
   ]
  },
  {
   "cell_type": "code",
   "execution_count": 91,
   "metadata": {},
   "outputs": [],
   "source": [
    "def FastCount(col):\n",
    "    print(DF_Survey_PM[col].value_counts())"
   ]
  },
  {
   "cell_type": "code",
   "execution_count": 92,
   "metadata": {},
   "outputs": [
    {
     "data": {
      "text/plain": [
       "Index(['User_Gender', 'User_Age', 'User_Province', 'Smoker_Type',\n",
       "       'N_Cigarette_Daily_Smoker', 'Transport_Means',\n",
       "       'N_x_Week_Use_Motor_Transport', 'KM_x_Week_Motor_Transport', 'M2_House',\n",
       "       'Heating_System', 'House_Temp', 'Fireplace', 'N_x_Year_Fireplace',\n",
       "       'N_Flights_x_Year', 'N_On-Line_Purchase_x_Month',\n",
       "       'N_Off-Line_Purchase_x_Month', 'Days_meatmeal_x_Week'],\n",
       "      dtype='object')"
      ]
     },
     "execution_count": 92,
     "metadata": {},
     "output_type": "execute_result"
    }
   ],
   "source": [
    "DF_Survey_PM.columns"
   ]
  },
  {
   "cell_type": "code",
   "execution_count": 93,
   "metadata": {},
   "outputs": [
    {
     "name": "stdout",
     "output_type": "stream",
     "text": [
      "Woman         98\n",
      "Man           64\n",
      "Non-Binary     2\n",
      "Name: User_Gender, dtype: int64\n"
     ]
    }
   ],
   "source": [
    "FastCount('User_Gender')"
   ]
  },
  {
   "cell_type": "code",
   "execution_count": 94,
   "metadata": {},
   "outputs": [
    {
     "name": "stdout",
     "output_type": "stream",
     "text": [
      "25 - 30    55\n",
      "18 - 24    47\n",
      "51 - 60    33\n",
      "31 - 40    18\n",
      "41 - 50    11\n",
      "Name: User_Age, dtype: int64\n"
     ]
    }
   ],
   "source": [
    "FastCount('User_Age')"
   ]
  },
  {
   "cell_type": "code",
   "execution_count": 95,
   "metadata": {},
   "outputs": [
    {
     "name": "stdout",
     "output_type": "stream",
     "text": [
      "Milano     97\n",
      "Varese     16\n",
      "Lecco       9\n",
      "Cremona     8\n",
      "Pavia       7\n",
      "Como        7\n",
      "Bergamo     7\n",
      "Monza       5\n",
      "Mantova     3\n",
      "Sondrio     2\n",
      "Lodi        2\n",
      "Brescia     1\n",
      "Name: User_Province, dtype: int64\n"
     ]
    }
   ],
   "source": [
    "FastCount('User_Province')"
   ]
  },
  {
   "cell_type": "code",
   "execution_count": 96,
   "metadata": {},
   "outputs": [
    {
     "name": "stdout",
     "output_type": "stream",
     "text": [
      "No smoker       114\n",
      "Daily Smoker     34\n",
      "3 to 5 month      9\n",
      "3 to 5 week       7\n",
      "Name: Smoker_Type, dtype: int64\n"
     ]
    }
   ],
   "source": [
    "FastCount('Smoker_Type')"
   ]
  },
  {
   "cell_type": "code",
   "execution_count": 97,
   "metadata": {},
   "outputs": [
    {
     "name": "stdout",
     "output_type": "stream",
     "text": [
      "            130\n",
      "6 to 10      14\n",
      "1 to 5        8\n",
      "16 to 20      6\n",
      "11 to 15      6\n",
      "Name: N_Cigarette_Daily_Smoker, dtype: int64\n"
     ]
    }
   ],
   "source": [
    "FastCount('N_Cigarette_Daily_Smoker')"
   ]
  },
  {
   "cell_type": "code",
   "execution_count": 98,
   "metadata": {},
   "outputs": [
    {
     "name": "stdout",
     "output_type": "stream",
     "text": [
      "Motor car           120\n",
      "Public transport     26\n",
      "Bicycle               7\n",
      "Hybrid car            7\n",
      "Motorcycle            3\n",
      "Electric car          1\n",
      "Name: Transport_Means, dtype: int64\n"
     ]
    }
   ],
   "source": [
    "FastCount('Transport_Means')"
   ]
  },
  {
   "cell_type": "code",
   "execution_count": 99,
   "metadata": {},
   "outputs": [
    {
     "name": "stdout",
     "output_type": "stream",
     "text": [
      "≥15        35\n",
      "8 to 14    34\n",
      "5 to 7     32\n",
      "3 to 4     29\n",
      "1 to 2     26\n",
      "            8\n",
      "Name: N_x_Week_Use_Motor_Transport, dtype: int64\n"
     ]
    }
   ],
   "source": [
    "FastCount('N_x_Week_Use_Motor_Transport')"
   ]
  },
  {
   "cell_type": "code",
   "execution_count": 100,
   "metadata": {},
   "outputs": [
    {
     "name": "stdout",
     "output_type": "stream",
     "text": [
      "1 to 50       54\n",
      "51 to 100     39\n",
      "101 to 200    36\n",
      "201 to 500    17\n",
      "≥500           9\n",
      "               9\n",
      "Name: KM_x_Week_Motor_Transport, dtype: int64\n"
     ]
    }
   ],
   "source": [
    "FastCount('KM_x_Week_Motor_Transport')"
   ]
  },
  {
   "cell_type": "code",
   "execution_count": 101,
   "metadata": {},
   "outputs": [
    {
     "name": "stdout",
     "output_type": "stream",
     "text": [
      "100    22\n",
      "120    11\n",
      "90     11\n",
      "200    10\n",
      "150    10\n",
      "50      9\n",
      "80      8\n",
      "70      8\n",
      "130     6\n",
      "60      6\n",
      "140     5\n",
      "123     5\n",
      "110     4\n",
      "75      4\n",
      "160     3\n",
      "105     3\n",
      "95      3\n",
      "180     3\n",
      "85      3\n",
      "55      2\n",
      "400     2\n",
      "170     2\n",
      "300     2\n",
      "45      1\n",
      "62      1\n",
      "65      1\n",
      "40      1\n",
      "35      1\n",
      "800     1\n",
      "30      1\n",
      "250     1\n",
      "360     1\n",
      "72      1\n",
      "92      1\n",
      "231     1\n",
      "106     1\n",
      "135     1\n",
      "144     1\n",
      "145     1\n",
      "177     1\n",
      "206     1\n",
      "220     1\n",
      "229     1\n",
      "230     1\n",
      "275     1\n",
      "Name: M2_House, dtype: int64\n"
     ]
    }
   ],
   "source": [
    "FastCount('M2_House')"
   ]
  },
  {
   "cell_type": "code",
   "execution_count": 102,
   "metadata": {},
   "outputs": [
    {
     "name": "stdout",
     "output_type": "stream",
     "text": [
      "Traditional radiator heating    128\n",
      "Traditional floor heating        15\n",
      "Pellet stove                     12\n",
      "Fireplace/Wood stove              7\n",
      "Air conditioner                   1\n",
      "Solar heating                     1\n",
      "Name: Heating_System, dtype: int64\n"
     ]
    }
   ],
   "source": [
    "FastCount('Heating_System')"
   ]
  },
  {
   "cell_type": "code",
   "execution_count": 103,
   "metadata": {},
   "outputs": [
    {
     "name": "stdout",
     "output_type": "stream",
     "text": [
      "20-21    93\n",
      "18-19    55\n",
      "22-23    13\n",
      "24-25     2\n",
      "≥26       1\n",
      "Name: House_Temp, dtype: int64\n"
     ]
    }
   ],
   "source": [
    "FastCount('House_Temp')"
   ]
  },
  {
   "cell_type": "code",
   "execution_count": 104,
   "metadata": {},
   "outputs": [
    {
     "name": "stdout",
     "output_type": "stream",
     "text": [
      "0    119\n",
      "1     45\n",
      "Name: Fireplace, dtype: int64\n"
     ]
    }
   ],
   "source": [
    "FastCount('Fireplace')"
   ]
  },
  {
   "cell_type": "code",
   "execution_count": 105,
   "metadata": {},
   "outputs": [
    {
     "name": "stdout",
     "output_type": "stream",
     "text": [
      "            119\n",
      "1 to 20      28\n",
      "≥61          12\n",
      "21 to 40      4\n",
      "41 to 60      1\n",
      "Name: N_x_Year_Fireplace, dtype: int64\n"
     ]
    }
   ],
   "source": [
    "FastCount('N_x_Year_Fireplace')"
   ]
  },
  {
   "cell_type": "code",
   "execution_count": 106,
   "metadata": {},
   "outputs": [
    {
     "name": "stdout",
     "output_type": "stream",
     "text": [
      "2     49\n",
      "0     48\n",
      "4     22\n",
      "1     14\n",
      "6      9\n",
      "10     5\n",
      "8      5\n",
      "20     4\n",
      "14     2\n",
      "3      2\n",
      "16     1\n",
      "15     1\n",
      "12     1\n",
      "5      1\n",
      "Name: N_Flights_x_Year, dtype: int64\n"
     ]
    }
   ],
   "source": [
    "FastCount('N_Flights_x_Year')"
   ]
  },
  {
   "cell_type": "code",
   "execution_count": 107,
   "metadata": {},
   "outputs": [
    {
     "name": "stdout",
     "output_type": "stream",
     "text": [
      "1 to 5      142\n",
      "6 to 10      13\n",
      "11 to 15      5\n",
      "16 to 20      4\n",
      "Name: N_On-Line_Purchase_x_Month, dtype: int64\n"
     ]
    }
   ],
   "source": [
    "FastCount('N_On-Line_Purchase_x_Month')"
   ]
  },
  {
   "cell_type": "code",
   "execution_count": 108,
   "metadata": {},
   "outputs": [
    {
     "name": "stdout",
     "output_type": "stream",
     "text": [
      "1 to 5      103\n",
      "6 to 10      42\n",
      "≥21           8\n",
      "11 to 15      8\n",
      "16 to 20      3\n",
      "Name: N_Off-Line_Purchase_x_Month, dtype: int64\n"
     ]
    }
   ],
   "source": [
    "FastCount('N_Off-Line_Purchase_x_Month')"
   ]
  },
  {
   "cell_type": "code",
   "execution_count": 109,
   "metadata": {},
   "outputs": [
    {
     "name": "stdout",
     "output_type": "stream",
     "text": [
      "3 to 4    70\n",
      "1 to 2    67\n",
      "7         23\n",
      "0          4\n",
      "Name: Days_meatmeal_x_Week, dtype: int64\n"
     ]
    }
   ],
   "source": [
    "FastCount('Days_meatmeal_x_Week')"
   ]
  },
  {
   "cell_type": "code",
   "execution_count": 110,
   "metadata": {},
   "outputs": [
    {
     "name": "stdout",
     "output_type": "stream",
     "text": [
      "<class 'pandas.core.frame.DataFrame'>\n",
      "RangeIndex: 164 entries, 0 to 163\n",
      "Data columns (total 17 columns):\n",
      " #   Column                        Non-Null Count  Dtype \n",
      "---  ------                        --------------  ----- \n",
      " 0   User_Gender                   164 non-null    object\n",
      " 1   User_Age                      164 non-null    object\n",
      " 2   User_Province                 164 non-null    object\n",
      " 3   Smoker_Type                   164 non-null    object\n",
      " 4   N_Cigarette_Daily_Smoker      164 non-null    object\n",
      " 5   Transport_Means               164 non-null    object\n",
      " 6   N_x_Week_Use_Motor_Transport  164 non-null    object\n",
      " 7   KM_x_Week_Motor_Transport     164 non-null    object\n",
      " 8   M2_House                      164 non-null    int64 \n",
      " 9   Heating_System                164 non-null    object\n",
      " 10  House_Temp                    164 non-null    object\n",
      " 11  Fireplace                     164 non-null    int64 \n",
      " 12  N_x_Year_Fireplace            164 non-null    object\n",
      " 13  N_Flights_x_Year              164 non-null    int64 \n",
      " 14  N_On-Line_Purchase_x_Month    164 non-null    object\n",
      " 15  N_Off-Line_Purchase_x_Month   164 non-null    object\n",
      " 16  Days_meatmeal_x_Week          164 non-null    object\n",
      "dtypes: int64(3), object(14)\n",
      "memory usage: 21.9+ KB\n"
     ]
    }
   ],
   "source": [
    "DF_Survey_PM.info()"
   ]
  },
  {
   "cell_type": "code",
   "execution_count": 111,
   "metadata": {},
   "outputs": [],
   "source": [
    "DF_Survey_PM.to_csv('df_survey_eng.csv', index=False)"
   ]
  },
  {
   "cell_type": "code",
   "execution_count": 112,
   "metadata": {},
   "outputs": [],
   "source": [
    "df_survey_eng = pd.read_csv(\"df_survey_eng.csv\")"
   ]
  },
  {
   "cell_type": "code",
   "execution_count": 113,
   "metadata": {},
   "outputs": [
    {
     "data": {
      "text/html": [
       "<div>\n",
       "<style scoped>\n",
       "    .dataframe tbody tr th:only-of-type {\n",
       "        vertical-align: middle;\n",
       "    }\n",
       "\n",
       "    .dataframe tbody tr th {\n",
       "        vertical-align: top;\n",
       "    }\n",
       "\n",
       "    .dataframe thead th {\n",
       "        text-align: right;\n",
       "    }\n",
       "</style>\n",
       "<table border=\"1\" class=\"dataframe\">\n",
       "  <thead>\n",
       "    <tr style=\"text-align: right;\">\n",
       "      <th></th>\n",
       "      <th>User_Gender</th>\n",
       "      <th>User_Age</th>\n",
       "      <th>User_Province</th>\n",
       "      <th>Smoker_Type</th>\n",
       "      <th>N_Cigarette_Daily_Smoker</th>\n",
       "      <th>Transport_Means</th>\n",
       "      <th>N_x_Week_Use_Motor_Transport</th>\n",
       "      <th>KM_x_Week_Motor_Transport</th>\n",
       "      <th>M2_House</th>\n",
       "      <th>Heating_System</th>\n",
       "      <th>House_Temp</th>\n",
       "      <th>Fireplace</th>\n",
       "      <th>N_x_Year_Fireplace</th>\n",
       "      <th>N_Flights_x_Year</th>\n",
       "      <th>N_On-Line_Purchase_x_Month</th>\n",
       "      <th>N_Off-Line_Purchase_x_Month</th>\n",
       "      <th>Days_meatmeal_x_Week</th>\n",
       "    </tr>\n",
       "  </thead>\n",
       "  <tbody>\n",
       "    <tr>\n",
       "      <th>0</th>\n",
       "      <td>Woman</td>\n",
       "      <td>18 - 24</td>\n",
       "      <td>Milano</td>\n",
       "      <td>Daily Smoker</td>\n",
       "      <td>1 to 5</td>\n",
       "      <td>Public transport</td>\n",
       "      <td>NaN</td>\n",
       "      <td>NaN</td>\n",
       "      <td>40</td>\n",
       "      <td>Traditional radiator heating</td>\n",
       "      <td>18-19</td>\n",
       "      <td>0</td>\n",
       "      <td>NaN</td>\n",
       "      <td>6</td>\n",
       "      <td>1 to 5</td>\n",
       "      <td>6 to 10</td>\n",
       "      <td>3 to 4</td>\n",
       "    </tr>\n",
       "    <tr>\n",
       "      <th>1</th>\n",
       "      <td>Man</td>\n",
       "      <td>25 - 30</td>\n",
       "      <td>Milano</td>\n",
       "      <td>Daily Smoker</td>\n",
       "      <td>1 to 5</td>\n",
       "      <td>Motor car</td>\n",
       "      <td>3 to 4</td>\n",
       "      <td>51 to 100</td>\n",
       "      <td>120</td>\n",
       "      <td>Traditional floor heating</td>\n",
       "      <td>20-21</td>\n",
       "      <td>0</td>\n",
       "      <td>NaN</td>\n",
       "      <td>8</td>\n",
       "      <td>1 to 5</td>\n",
       "      <td>1 to 5</td>\n",
       "      <td>7</td>\n",
       "    </tr>\n",
       "    <tr>\n",
       "      <th>2</th>\n",
       "      <td>Woman</td>\n",
       "      <td>18 - 24</td>\n",
       "      <td>Pavia</td>\n",
       "      <td>Daily Smoker</td>\n",
       "      <td>1 to 5</td>\n",
       "      <td>Public transport</td>\n",
       "      <td>NaN</td>\n",
       "      <td>NaN</td>\n",
       "      <td>35</td>\n",
       "      <td>Traditional radiator heating</td>\n",
       "      <td>22-23</td>\n",
       "      <td>0</td>\n",
       "      <td>NaN</td>\n",
       "      <td>4</td>\n",
       "      <td>1 to 5</td>\n",
       "      <td>1 to 5</td>\n",
       "      <td>3 to 4</td>\n",
       "    </tr>\n",
       "    <tr>\n",
       "      <th>3</th>\n",
       "      <td>Man</td>\n",
       "      <td>25 - 30</td>\n",
       "      <td>Milano</td>\n",
       "      <td>No smoker</td>\n",
       "      <td>NaN</td>\n",
       "      <td>Motor car</td>\n",
       "      <td>8 to 14</td>\n",
       "      <td>101 to 200</td>\n",
       "      <td>105</td>\n",
       "      <td>Traditional radiator heating</td>\n",
       "      <td>18-19</td>\n",
       "      <td>0</td>\n",
       "      <td>NaN</td>\n",
       "      <td>2</td>\n",
       "      <td>11 to 15</td>\n",
       "      <td>1 to 5</td>\n",
       "      <td>7</td>\n",
       "    </tr>\n",
       "    <tr>\n",
       "      <th>4</th>\n",
       "      <td>Man</td>\n",
       "      <td>18 - 24</td>\n",
       "      <td>Milano</td>\n",
       "      <td>Daily Smoker</td>\n",
       "      <td>6 to 10</td>\n",
       "      <td>Motor car</td>\n",
       "      <td>5 to 7</td>\n",
       "      <td>51 to 100</td>\n",
       "      <td>123</td>\n",
       "      <td>Traditional radiator heating</td>\n",
       "      <td>20-21</td>\n",
       "      <td>0</td>\n",
       "      <td>NaN</td>\n",
       "      <td>2</td>\n",
       "      <td>1 to 5</td>\n",
       "      <td>1 to 5</td>\n",
       "      <td>7</td>\n",
       "    </tr>\n",
       "    <tr>\n",
       "      <th>5</th>\n",
       "      <td>Man</td>\n",
       "      <td>18 - 24</td>\n",
       "      <td>Milano</td>\n",
       "      <td>No smoker</td>\n",
       "      <td>NaN</td>\n",
       "      <td>Public transport</td>\n",
       "      <td>NaN</td>\n",
       "      <td>NaN</td>\n",
       "      <td>160</td>\n",
       "      <td>Traditional radiator heating</td>\n",
       "      <td>20-21</td>\n",
       "      <td>0</td>\n",
       "      <td>NaN</td>\n",
       "      <td>4</td>\n",
       "      <td>1 to 5</td>\n",
       "      <td>1 to 5</td>\n",
       "      <td>1 to 2</td>\n",
       "    </tr>\n",
       "    <tr>\n",
       "      <th>6</th>\n",
       "      <td>Woman</td>\n",
       "      <td>25 - 30</td>\n",
       "      <td>Milano</td>\n",
       "      <td>3 to 5 month</td>\n",
       "      <td>NaN</td>\n",
       "      <td>Public transport</td>\n",
       "      <td>3 to 4</td>\n",
       "      <td>1 to 50</td>\n",
       "      <td>30</td>\n",
       "      <td>Traditional radiator heating</td>\n",
       "      <td>22-23</td>\n",
       "      <td>0</td>\n",
       "      <td>NaN</td>\n",
       "      <td>10</td>\n",
       "      <td>6 to 10</td>\n",
       "      <td>1 to 5</td>\n",
       "      <td>3 to 4</td>\n",
       "    </tr>\n",
       "    <tr>\n",
       "      <th>7</th>\n",
       "      <td>Man</td>\n",
       "      <td>18 - 24</td>\n",
       "      <td>Milano</td>\n",
       "      <td>No smoker</td>\n",
       "      <td>NaN</td>\n",
       "      <td>Motor car</td>\n",
       "      <td>8 to 14</td>\n",
       "      <td>1 to 50</td>\n",
       "      <td>150</td>\n",
       "      <td>Traditional radiator heating</td>\n",
       "      <td>18-19</td>\n",
       "      <td>1</td>\n",
       "      <td>1 to 20</td>\n",
       "      <td>2</td>\n",
       "      <td>1 to 5</td>\n",
       "      <td>1 to 5</td>\n",
       "      <td>7</td>\n",
       "    </tr>\n",
       "    <tr>\n",
       "      <th>8</th>\n",
       "      <td>Man</td>\n",
       "      <td>18 - 24</td>\n",
       "      <td>Milano</td>\n",
       "      <td>3 to 5 month</td>\n",
       "      <td>NaN</td>\n",
       "      <td>Motor car</td>\n",
       "      <td>8 to 14</td>\n",
       "      <td>51 to 100</td>\n",
       "      <td>144</td>\n",
       "      <td>Traditional radiator heating</td>\n",
       "      <td>18-19</td>\n",
       "      <td>0</td>\n",
       "      <td>NaN</td>\n",
       "      <td>4</td>\n",
       "      <td>1 to 5</td>\n",
       "      <td>6 to 10</td>\n",
       "      <td>3 to 4</td>\n",
       "    </tr>\n",
       "    <tr>\n",
       "      <th>9</th>\n",
       "      <td>Woman</td>\n",
       "      <td>51 - 60</td>\n",
       "      <td>Milano</td>\n",
       "      <td>No smoker</td>\n",
       "      <td>NaN</td>\n",
       "      <td>Bicycle</td>\n",
       "      <td>1 to 2</td>\n",
       "      <td>1 to 50</td>\n",
       "      <td>100</td>\n",
       "      <td>Traditional radiator heating</td>\n",
       "      <td>18-19</td>\n",
       "      <td>0</td>\n",
       "      <td>NaN</td>\n",
       "      <td>0</td>\n",
       "      <td>6 to 10</td>\n",
       "      <td>1 to 5</td>\n",
       "      <td>1 to 2</td>\n",
       "    </tr>\n",
       "  </tbody>\n",
       "</table>\n",
       "</div>"
      ],
      "text/plain": [
       "  User_Gender User_Age User_Province   Smoker_Type N_Cigarette_Daily_Smoker  \\\n",
       "0       Woman  18 - 24        Milano  Daily Smoker                   1 to 5   \n",
       "1         Man  25 - 30        Milano  Daily Smoker                   1 to 5   \n",
       "2       Woman  18 - 24         Pavia  Daily Smoker                   1 to 5   \n",
       "3         Man  25 - 30        Milano     No smoker                      NaN   \n",
       "4         Man  18 - 24        Milano  Daily Smoker                  6 to 10   \n",
       "5         Man  18 - 24        Milano     No smoker                      NaN   \n",
       "6       Woman  25 - 30        Milano  3 to 5 month                      NaN   \n",
       "7         Man  18 - 24        Milano     No smoker                      NaN   \n",
       "8         Man  18 - 24        Milano  3 to 5 month                      NaN   \n",
       "9       Woman  51 - 60        Milano     No smoker                      NaN   \n",
       "\n",
       "    Transport_Means N_x_Week_Use_Motor_Transport KM_x_Week_Motor_Transport  \\\n",
       "0  Public transport                          NaN                       NaN   \n",
       "1         Motor car                       3 to 4                 51 to 100   \n",
       "2  Public transport                          NaN                       NaN   \n",
       "3         Motor car                      8 to 14                101 to 200   \n",
       "4         Motor car                       5 to 7                 51 to 100   \n",
       "5  Public transport                          NaN                       NaN   \n",
       "6  Public transport                       3 to 4                   1 to 50   \n",
       "7         Motor car                      8 to 14                   1 to 50   \n",
       "8         Motor car                      8 to 14                 51 to 100   \n",
       "9           Bicycle                       1 to 2                   1 to 50   \n",
       "\n",
       "   M2_House                Heating_System House_Temp  Fireplace  \\\n",
       "0        40  Traditional radiator heating      18-19          0   \n",
       "1       120     Traditional floor heating      20-21          0   \n",
       "2        35  Traditional radiator heating      22-23          0   \n",
       "3       105  Traditional radiator heating      18-19          0   \n",
       "4       123  Traditional radiator heating      20-21          0   \n",
       "5       160  Traditional radiator heating      20-21          0   \n",
       "6        30  Traditional radiator heating      22-23          0   \n",
       "7       150  Traditional radiator heating      18-19          1   \n",
       "8       144  Traditional radiator heating      18-19          0   \n",
       "9       100  Traditional radiator heating      18-19          0   \n",
       "\n",
       "  N_x_Year_Fireplace  N_Flights_x_Year N_On-Line_Purchase_x_Month  \\\n",
       "0                NaN                 6                     1 to 5   \n",
       "1                NaN                 8                     1 to 5   \n",
       "2                NaN                 4                     1 to 5   \n",
       "3                NaN                 2                   11 to 15   \n",
       "4                NaN                 2                     1 to 5   \n",
       "5                NaN                 4                     1 to 5   \n",
       "6                NaN                10                    6 to 10   \n",
       "7            1 to 20                 2                     1 to 5   \n",
       "8                NaN                 4                     1 to 5   \n",
       "9                NaN                 0                    6 to 10   \n",
       "\n",
       "  N_Off-Line_Purchase_x_Month Days_meatmeal_x_Week  \n",
       "0                     6 to 10               3 to 4  \n",
       "1                      1 to 5                    7  \n",
       "2                      1 to 5               3 to 4  \n",
       "3                      1 to 5                    7  \n",
       "4                      1 to 5                    7  \n",
       "5                      1 to 5               1 to 2  \n",
       "6                      1 to 5               3 to 4  \n",
       "7                      1 to 5                    7  \n",
       "8                     6 to 10               3 to 4  \n",
       "9                      1 to 5               1 to 2  "
      ]
     },
     "execution_count": 113,
     "metadata": {},
     "output_type": "execute_result"
    }
   ],
   "source": [
    "df_survey_eng.head(10)"
   ]
  }
 ],
 "metadata": {
  "kernelspec": {
   "display_name": "Python 3 (ipykernel)",
   "language": "python",
   "name": "python3"
  },
  "language_info": {
   "codemirror_mode": {
    "name": "ipython",
    "version": 3
   },
   "file_extension": ".py",
   "mimetype": "text/x-python",
   "name": "python",
   "nbconvert_exporter": "python",
   "pygments_lexer": "ipython3",
   "version": "3.9.7"
  }
 },
 "nbformat": 4,
 "nbformat_minor": 4
}
