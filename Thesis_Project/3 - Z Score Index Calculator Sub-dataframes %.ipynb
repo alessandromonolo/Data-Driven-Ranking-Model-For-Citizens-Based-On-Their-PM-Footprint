{
 "cells": [
  {
   "cell_type": "markdown",
   "metadata": {},
   "source": [
    "**Graduation Project**: PM Footprint calculator based on citizen behavior related to fine dust emissions.\n",
    "\n",
    "Student: **Alessandro Monolo** | 1790210\n",
    "\n",
    "GP supervisor: Angelique Ruiter\n",
    "\n",
    "Master Data-Driven Design, Hogeschool Utrecht.\n",
    "\n",
    "Academical Year: 2021/2022, Block C."
   ]
  },
  {
   "cell_type": "markdown",
   "metadata": {},
   "source": [
    "## 3 - Z - Score index calculation from % emission sources basing sub-dataframes:"
   ]
  },
  {
   "cell_type": "code",
   "execution_count": 1,
   "metadata": {},
   "outputs": [],
   "source": [
    "# Import the Python Libraries I need to calculate Z score index and other functions:"
   ]
  },
  {
   "cell_type": "code",
   "execution_count": 2,
   "metadata": {},
   "outputs": [],
   "source": [
    "import pandas as pd\n",
    "import numpy as np\n",
    "import matplotlib.pyplot as plt\n",
    "import seaborn as sns\n",
    "import matplotlib.style as style\n",
    "from matplotlib import cm\n",
    "%matplotlib inline"
   ]
  },
  {
   "cell_type": "code",
   "execution_count": 3,
   "metadata": {},
   "outputs": [],
   "source": [
    "# Import the final dataframe with the name: df_survey_z_score"
   ]
  },
  {
   "cell_type": "code",
   "execution_count": 4,
   "metadata": {},
   "outputs": [],
   "source": [
    "df_survey_z_score = pd.read_csv(\"df_survey_z_score.csv\")"
   ]
  },
  {
   "cell_type": "code",
   "execution_count": 5,
   "metadata": {},
   "outputs": [],
   "source": [
    "# Quick overview over the final dataframe:"
   ]
  },
  {
   "cell_type": "code",
   "execution_count": 6,
   "metadata": {
    "scrolled": true
   },
   "outputs": [],
   "source": [
    "#df_survey_z_score.head(10)\n",
    "#print(df_survey_z_score.shape)\n",
    "#print(df_survey_z_score.info())"
   ]
  },
  {
   "cell_type": "code",
   "execution_count": 7,
   "metadata": {},
   "outputs": [],
   "source": [
    "# Check any missing values over the final dataframe:"
   ]
  },
  {
   "cell_type": "code",
   "execution_count": 8,
   "metadata": {},
   "outputs": [
    {
     "data": {
      "image/png": "[encoded data removed]",
      "text/plain": [
       "<Figure size 1080x360 with 1 Axes>"
      ]
     },
     "metadata": {
      "needs_background": "light"
     },
     "output_type": "display_data"
    }
   ],
   "source": [
    "plt.figure(figsize=(15,5))\n",
    "sns.heatmap(df_survey_z_score.isnull(), yticklabels=False, cbar=False, cmap='viridis')\n",
    "plt.title('Missing values (in yellow) of df_survey_z_score', size=15)\n",
    "plt.xlabel('Variables', size=12)\n",
    "plt.tight_layout()\n",
    "plt.show()"
   ]
  },
  {
   "cell_type": "markdown",
   "metadata": {},
   "source": [
    "### Slice two dataframes;\n",
    "#### First: Categorical variables\n",
    "#### Second: Numerical variables"
   ]
  },
  {
   "cell_type": "code",
   "execution_count": 9,
   "metadata": {},
   "outputs": [],
   "source": [
    "# Create new dataframe skipping first three categorical columns from df_survey_z_score,"
   ]
  },
  {
   "cell_type": "code",
   "execution_count": 10,
   "metadata": {},
   "outputs": [],
   "source": [
    "df_variables_z_score = df_survey_z_score.drop([\"User\",\"User_Gender\",\"User_Age\"], axis=1)"
   ]
  },
  {
   "cell_type": "code",
   "execution_count": 11,
   "metadata": {},
   "outputs": [],
   "source": [
    "# While here I save the first three dataframe columns with only categorical variables from the voters:"
   ]
  },
  {
   "cell_type": "code",
   "execution_count": 12,
   "metadata": {},
   "outputs": [],
   "source": [
    "df_voters = df_survey_z_score[[\"User\",\"User_Gender\",\"User_Age\"]].copy()"
   ]
  },
  {
   "cell_type": "markdown",
   "metadata": {},
   "source": [
    "### Standardize the variables:\n",
    "**Import StandardScaler from Scikit learn.**"
   ]
  },
  {
   "cell_type": "code",
   "execution_count": 13,
   "metadata": {},
   "outputs": [],
   "source": [
    "from sklearn.preprocessing import StandardScaler"
   ]
  },
  {
   "cell_type": "code",
   "execution_count": 14,
   "metadata": {},
   "outputs": [],
   "source": [
    "# Create a StandardScaler() object called scaler."
   ]
  },
  {
   "cell_type": "code",
   "execution_count": 15,
   "metadata": {},
   "outputs": [],
   "source": [
    "scaler = StandardScaler()"
   ]
  },
  {
   "cell_type": "code",
   "execution_count": 16,
   "metadata": {},
   "outputs": [],
   "source": [
    "# Fit scaler to the features of the traffict sub-dataframe:"
   ]
  },
  {
   "cell_type": "code",
   "execution_count": 17,
   "metadata": {},
   "outputs": [
    {
     "data": {
      "text/plain": [
       "StandardScaler()"
      ]
     },
     "execution_count": 17,
     "metadata": {},
     "output_type": "execute_result"
    }
   ],
   "source": [
    "scaler.fit(df_variables_z_score)"
   ]
  },
  {
   "cell_type": "code",
   "execution_count": 18,
   "metadata": {},
   "outputs": [],
   "source": [
    "# Use the .transform() method to transform the features to a scaled version for each sub-dataframes:"
   ]
  },
  {
   "cell_type": "code",
   "execution_count": 19,
   "metadata": {},
   "outputs": [],
   "source": [
    "scaled_features = scaler.transform(df_variables_z_score)"
   ]
  },
  {
   "cell_type": "code",
   "execution_count": 20,
   "metadata": {},
   "outputs": [],
   "source": [
    "# Convert the scaled features to a dataframe and check the head of this dataframe to make sure the scaling worked."
   ]
  },
  {
   "cell_type": "code",
   "execution_count": 21,
   "metadata": {},
   "outputs": [],
   "source": [
    "df_scaled_variables = pd.DataFrame(scaled_features, columns=df_variables_z_score.columns)"
   ]
  },
  {
   "cell_type": "code",
   "execution_count": 22,
   "metadata": {},
   "outputs": [],
   "source": [
    "# Check among the scaled sub-dataframes:"
   ]
  },
  {
   "cell_type": "code",
   "execution_count": 23,
   "metadata": {},
   "outputs": [],
   "source": [
    "#df_scaled_variables.head(10)"
   ]
  },
  {
   "cell_type": "markdown",
   "metadata": {},
   "source": [
    "### Slicing the scaled dataframe in three sub-dataframe based on PM2.5 emissions % sources:\n",
    "**Traffic, Heating & Others sources**"
   ]
  },
  {
   "cell_type": "code",
   "execution_count": 24,
   "metadata": {},
   "outputs": [],
   "source": [
    "# Create new dataframes based on type of PM emissions, following the percentage distribution mentioned\n",
    "# in this national research method among itlaian emission sources related to PM2.5:\n",
    "# https://annuario.isprambiente.it/pon/basic/14"
   ]
  },
  {
   "cell_type": "code",
   "execution_count": 25,
   "metadata": {},
   "outputs": [],
   "source": [
    "# First dataframe about traffic pollution emissions, which consitute around 17%:"
   ]
  },
  {
   "cell_type": "code",
   "execution_count": 26,
   "metadata": {},
   "outputs": [],
   "source": [
    "df_scaled_traffic = df_scaled_variables[[\"Transport_type\",\"Transport_use\",\"Transport_km\"]].copy()"
   ]
  },
  {
   "cell_type": "code",
   "execution_count": 27,
   "metadata": {},
   "outputs": [],
   "source": [
    "# Second dataframe about heating pollution emissions, which consitute around 66,7%:"
   ]
  },
  {
   "cell_type": "code",
   "execution_count": 28,
   "metadata": {},
   "outputs": [],
   "source": [
    "df_scaled_heating = df_scaled_variables[[\"M2_House\",\"Heating_system_type\",\"House_temperature\", \"Fireplace\", \"Fireplace_use\"]].copy()"
   ]
  },
  {
   "cell_type": "code",
   "execution_count": 29,
   "metadata": {},
   "outputs": [],
   "source": [
    "# Third dataframe about other pollution emissions, which constitute around 16,3%:"
   ]
  },
  {
   "cell_type": "code",
   "execution_count": 30,
   "metadata": {},
   "outputs": [],
   "source": [
    "df_scaled_others = df_scaled_variables[[\"Smoked_cigarette\",\"Online_purchase\",\"Offline_purchase\", \"Meat_based_meals\", \"Flights\"]].copy()"
   ]
  },
  {
   "cell_type": "markdown",
   "metadata": {},
   "source": [
    "### Unproportional Z - Score calculation for each sub-dataset:\n",
    "**Import Z - Score statistical function from Scipy.**"
   ]
  },
  {
   "cell_type": "code",
   "execution_count": 31,
   "metadata": {},
   "outputs": [],
   "source": [
    "# Import from scypy library the function to calculate Z score:"
   ]
  },
  {
   "cell_type": "code",
   "execution_count": 32,
   "metadata": {},
   "outputs": [],
   "source": [
    "import scipy.stats as stats"
   ]
  },
  {
   "cell_type": "markdown",
   "metadata": {},
   "source": [
    "#### Z - Score Traffic sub-dataset:"
   ]
  },
  {
   "cell_type": "code",
   "execution_count": 33,
   "metadata": {},
   "outputs": [],
   "source": [
    "# here I apply the sicpy function Z - score to each sliced dataframes:"
   ]
  },
  {
   "cell_type": "code",
   "execution_count": 34,
   "metadata": {},
   "outputs": [],
   "source": [
    "df_z_score_traffic = df_scaled_traffic.apply(stats.zscore)"
   ]
  },
  {
   "cell_type": "code",
   "execution_count": 35,
   "metadata": {},
   "outputs": [],
   "source": [
    "# Create a new dataframe column obtained from the sum of all the other df columns:"
   ]
  },
  {
   "cell_type": "code",
   "execution_count": 36,
   "metadata": {},
   "outputs": [],
   "source": [
    "df_z_score_traffic['Row_traffic_index'] = df_z_score_traffic.sum(axis=1)"
   ]
  },
  {
   "cell_type": "markdown",
   "metadata": {},
   "source": [
    "#### Z - Score Heating sub-dataset:"
   ]
  },
  {
   "cell_type": "code",
   "execution_count": 37,
   "metadata": {},
   "outputs": [],
   "source": [
    "# here I apply the sicpy function Z - score to each sliced dataframes:"
   ]
  },
  {
   "cell_type": "code",
   "execution_count": 38,
   "metadata": {},
   "outputs": [],
   "source": [
    "df_z_score_heating = df_scaled_heating.apply(stats.zscore)"
   ]
  },
  {
   "cell_type": "code",
   "execution_count": 39,
   "metadata": {},
   "outputs": [],
   "source": [
    "# Create a new dataframe column obtained from the sum of all the other df columns:"
   ]
  },
  {
   "cell_type": "code",
   "execution_count": 40,
   "metadata": {},
   "outputs": [],
   "source": [
    "df_z_score_heating['Row_heating_index'] = df_z_score_heating.sum(axis=1)"
   ]
  },
  {
   "cell_type": "markdown",
   "metadata": {},
   "source": [
    "#### Z - Score Others sub-dataset:"
   ]
  },
  {
   "cell_type": "code",
   "execution_count": 41,
   "metadata": {},
   "outputs": [],
   "source": [
    "# here I apply the sicpy function Z - score to each sliced dataframes:"
   ]
  },
  {
   "cell_type": "code",
   "execution_count": 42,
   "metadata": {},
   "outputs": [],
   "source": [
    "df_z_score_others = df_scaled_others.apply(stats.zscore)"
   ]
  },
  {
   "cell_type": "code",
   "execution_count": 43,
   "metadata": {},
   "outputs": [],
   "source": [
    "# Create a new dataframe column obtained from the sum of all the other df columns:"
   ]
  },
  {
   "cell_type": "code",
   "execution_count": 44,
   "metadata": {},
   "outputs": [],
   "source": [
    "df_z_score_others['Row_others_index'] = df_z_score_others.sum(axis=1)"
   ]
  },
  {
   "cell_type": "markdown",
   "metadata": {},
   "source": [
    "### Proportional Z - Score calculation for each sub-dataset:\n",
    "**Calculate a final Z - Score based on % emission sources**"
   ]
  },
  {
   "cell_type": "code",
   "execution_count": 45,
   "metadata": {},
   "outputs": [],
   "source": [
    "# Here I proportionate the row indexes just obtained with  the % of emissions related to the type of sources,\n",
    "# Then I create a final index column and I check the sub-dataframe:"
   ]
  },
  {
   "cell_type": "markdown",
   "metadata": {},
   "source": [
    "#### Z - Score Traffic - 17% of the total PM2.5 emissions:"
   ]
  },
  {
   "cell_type": "code",
   "execution_count": 46,
   "metadata": {},
   "outputs": [],
   "source": [
    "df_z_score_traffic['Final_traffic_index'] = df_z_score_traffic['Row_traffic_index'] * 0.17"
   ]
  },
  {
   "cell_type": "code",
   "execution_count": 47,
   "metadata": {},
   "outputs": [],
   "source": [
    "#df_z_score_traffic.head(5)"
   ]
  },
  {
   "cell_type": "markdown",
   "metadata": {},
   "source": [
    "#### Z - Score Heating - 66,7% of the total PM2.5 emissions:"
   ]
  },
  {
   "cell_type": "code",
   "execution_count": 48,
   "metadata": {},
   "outputs": [],
   "source": [
    "df_z_score_heating['Final_heating_index'] = df_z_score_heating['Row_heating_index'] * 0.667"
   ]
  },
  {
   "cell_type": "code",
   "execution_count": 49,
   "metadata": {},
   "outputs": [],
   "source": [
    "#df_z_score_heating.head(5)"
   ]
  },
  {
   "cell_type": "markdown",
   "metadata": {},
   "source": [
    "#### Z - Score Others - 16,3% of the total PM2.5 emissions:"
   ]
  },
  {
   "cell_type": "code",
   "execution_count": 50,
   "metadata": {},
   "outputs": [],
   "source": [
    "df_z_score_others['Final_others_index'] = df_z_score_others['Row_others_index'] * 0.163"
   ]
  },
  {
   "cell_type": "code",
   "execution_count": 51,
   "metadata": {},
   "outputs": [],
   "source": [
    "#df_z_score_others.head(5)"
   ]
  },
  {
   "cell_type": "markdown",
   "metadata": {},
   "source": [
    "### Concat the sub-datasets with the voters dataset all together:"
   ]
  },
  {
   "cell_type": "code",
   "execution_count": 52,
   "metadata": {},
   "outputs": [],
   "source": [
    "df_z_score_final = pd.concat([df_voters, df_z_score_traffic, df_z_score_heating, df_z_score_others], axis=1)"
   ]
  },
  {
   "cell_type": "code",
   "execution_count": 53,
   "metadata": {},
   "outputs": [],
   "source": [
    "df_z_score_final['Overall_Index'] =  df_z_score_final[[\"Final_traffic_index\", \"Final_heating_index\", \"Final_others_index\"]].sum(axis=1)"
   ]
  },
  {
   "cell_type": "code",
   "execution_count": 54,
   "metadata": {},
   "outputs": [],
   "source": [
    "# Quick overview over the final Z-Score dataframe:"
   ]
  },
  {
   "cell_type": "code",
   "execution_count": 55,
   "metadata": {},
   "outputs": [],
   "source": [
    "#df_z_score_final.head(10)"
   ]
  },
  {
   "cell_type": "code",
   "execution_count": 56,
   "metadata": {},
   "outputs": [],
   "source": [
    "# Check the min and max value of the final propotional index:"
   ]
  },
  {
   "cell_type": "code",
   "execution_count": 57,
   "metadata": {},
   "outputs": [],
   "source": [
    "df_min_value = df_z_score_final['Overall_Index'].min()\n",
    "df_min_row = df_z_score_final.loc[df_z_score_final['Overall_Index'] == df_min_value]"
   ]
  },
  {
   "cell_type": "code",
   "execution_count": 58,
   "metadata": {},
   "outputs": [],
   "source": [
    "df_max_value = df_z_score_final['Overall_Index'].max()\n",
    "df_max_row = df_z_score_final.loc[df_z_score_final['Overall_Index'] == df_max_value]"
   ]
  },
  {
   "cell_type": "code",
   "execution_count": 59,
   "metadata": {},
   "outputs": [
    {
     "data": {
      "text/html": [
       "<div>\n",
       "<style scoped>\n",
       "    .dataframe tbody tr th:only-of-type {\n",
       "        vertical-align: middle;\n",
       "    }\n",
       "\n",
       "    .dataframe tbody tr th {\n",
       "        vertical-align: top;\n",
       "    }\n",
       "\n",
       "    .dataframe thead th {\n",
       "        text-align: right;\n",
       "    }\n",
       "</style>\n",
       "<table border=\"1\" class=\"dataframe\">\n",
       "  <thead>\n",
       "    <tr style=\"text-align: right;\">\n",
       "      <th></th>\n",
       "      <th>User</th>\n",
       "      <th>User_Gender</th>\n",
       "      <th>User_Age</th>\n",
       "      <th>Transport_type</th>\n",
       "      <th>Transport_use</th>\n",
       "      <th>Transport_km</th>\n",
       "      <th>Row_traffic_index</th>\n",
       "      <th>Final_traffic_index</th>\n",
       "      <th>M2_House</th>\n",
       "      <th>Heating_system_type</th>\n",
       "      <th>...</th>\n",
       "      <th>Row_heating_index</th>\n",
       "      <th>Final_heating_index</th>\n",
       "      <th>Smoked_cigarette</th>\n",
       "      <th>Online_purchase</th>\n",
       "      <th>Offline_purchase</th>\n",
       "      <th>Meat_based_meals</th>\n",
       "      <th>Flights</th>\n",
       "      <th>Row_others_index</th>\n",
       "      <th>Final_others_index</th>\n",
       "      <th>Overall_Index</th>\n",
       "    </tr>\n",
       "  </thead>\n",
       "  <tbody>\n",
       "    <tr>\n",
       "      <th>70</th>\n",
       "      <td>71</td>\n",
       "      <td>Woman</td>\n",
       "      <td>18 - 24</td>\n",
       "      <td>-1.777234</td>\n",
       "      <td>-1.499178</td>\n",
       "      <td>-0.97756</td>\n",
       "      <td>-4.253973</td>\n",
       "      <td>-0.723175</td>\n",
       "      <td>-0.809829</td>\n",
       "      <td>-0.056908</td>\n",
       "      <td>...</td>\n",
       "      <td>-3.125622</td>\n",
       "      <td>-2.08479</td>\n",
       "      <td>-0.467167</td>\n",
       "      <td>-0.348418</td>\n",
       "      <td>-0.594244</td>\n",
       "      <td>-0.863431</td>\n",
       "      <td>-0.253803</td>\n",
       "      <td>-2.527063</td>\n",
       "      <td>-0.411911</td>\n",
       "      <td>-3.219877</td>\n",
       "    </tr>\n",
       "  </tbody>\n",
       "</table>\n",
       "<p>1 rows × 23 columns</p>\n",
       "</div>"
      ],
      "text/plain": [
       "    User User_Gender User_Age  Transport_type  Transport_use  Transport_km  \\\n",
       "70    71       Woman  18 - 24       -1.777234      -1.499178      -0.97756   \n",
       "\n",
       "    Row_traffic_index  Final_traffic_index  M2_House  Heating_system_type  \\\n",
       "70          -4.253973            -0.723175 -0.809829            -0.056908   \n",
       "\n",
       "    ...  Row_heating_index  Final_heating_index  Smoked_cigarette  \\\n",
       "70  ...          -3.125622             -2.08479         -0.467167   \n",
       "\n",
       "    Online_purchase  Offline_purchase  Meat_based_meals   Flights  \\\n",
       "70        -0.348418         -0.594244         -0.863431 -0.253803   \n",
       "\n",
       "    Row_others_index  Final_others_index  Overall_Index  \n",
       "70         -2.527063           -0.411911      -3.219877  \n",
       "\n",
       "[1 rows x 23 columns]"
      ]
     },
     "execution_count": 59,
     "metadata": {},
     "output_type": "execute_result"
    }
   ],
   "source": [
    "df_min_row"
   ]
  },
  {
   "cell_type": "code",
   "execution_count": 60,
   "metadata": {},
   "outputs": [
    {
     "data": {
      "text/html": [
       "<div>\n",
       "<style scoped>\n",
       "    .dataframe tbody tr th:only-of-type {\n",
       "        vertical-align: middle;\n",
       "    }\n",
       "\n",
       "    .dataframe tbody tr th {\n",
       "        vertical-align: top;\n",
       "    }\n",
       "\n",
       "    .dataframe thead th {\n",
       "        text-align: right;\n",
       "    }\n",
       "</style>\n",
       "<table border=\"1\" class=\"dataframe\">\n",
       "  <thead>\n",
       "    <tr style=\"text-align: right;\">\n",
       "      <th></th>\n",
       "      <th>User</th>\n",
       "      <th>User_Gender</th>\n",
       "      <th>User_Age</th>\n",
       "      <th>Transport_type</th>\n",
       "      <th>Transport_use</th>\n",
       "      <th>Transport_km</th>\n",
       "      <th>Row_traffic_index</th>\n",
       "      <th>Final_traffic_index</th>\n",
       "      <th>M2_House</th>\n",
       "      <th>Heating_system_type</th>\n",
       "      <th>...</th>\n",
       "      <th>Row_heating_index</th>\n",
       "      <th>Final_heating_index</th>\n",
       "      <th>Smoked_cigarette</th>\n",
       "      <th>Online_purchase</th>\n",
       "      <th>Offline_purchase</th>\n",
       "      <th>Meat_based_meals</th>\n",
       "      <th>Flights</th>\n",
       "      <th>Row_others_index</th>\n",
       "      <th>Final_others_index</th>\n",
       "      <th>Overall_Index</th>\n",
       "    </tr>\n",
       "  </thead>\n",
       "  <tbody>\n",
       "    <tr>\n",
       "      <th>11</th>\n",
       "      <td>12</td>\n",
       "      <td>Man</td>\n",
       "      <td>18 - 24</td>\n",
       "      <td>0.568572</td>\n",
       "      <td>1.31343</td>\n",
       "      <td>0.170657</td>\n",
       "      <td>2.052659</td>\n",
       "      <td>0.348952</td>\n",
       "      <td>2.83798</td>\n",
       "      <td>-0.056908</td>\n",
       "      <td>...</td>\n",
       "      <td>9.362046</td>\n",
       "      <td>6.244484</td>\n",
       "      <td>-0.467167</td>\n",
       "      <td>1.28417</td>\n",
       "      <td>1.374564</td>\n",
       "      <td>2.003019</td>\n",
       "      <td>-0.253803</td>\n",
       "      <td>3.940783</td>\n",
       "      <td>0.642348</td>\n",
       "      <td>7.235784</td>\n",
       "    </tr>\n",
       "  </tbody>\n",
       "</table>\n",
       "<p>1 rows × 23 columns</p>\n",
       "</div>"
      ],
      "text/plain": [
       "    User User_Gender User_Age  Transport_type  Transport_use  Transport_km  \\\n",
       "11    12         Man  18 - 24        0.568572        1.31343      0.170657   \n",
       "\n",
       "    Row_traffic_index  Final_traffic_index  M2_House  Heating_system_type  \\\n",
       "11           2.052659             0.348952   2.83798            -0.056908   \n",
       "\n",
       "    ...  Row_heating_index  Final_heating_index  Smoked_cigarette  \\\n",
       "11  ...           9.362046             6.244484         -0.467167   \n",
       "\n",
       "    Online_purchase  Offline_purchase  Meat_based_meals   Flights  \\\n",
       "11          1.28417          1.374564          2.003019 -0.253803   \n",
       "\n",
       "    Row_others_index  Final_others_index  Overall_Index  \n",
       "11          3.940783            0.642348       7.235784  \n",
       "\n",
       "[1 rows x 23 columns]"
      ]
     },
     "execution_count": 60,
     "metadata": {},
     "output_type": "execute_result"
    }
   ],
   "source": [
    "df_max_row"
   ]
  },
  {
   "cell_type": "markdown",
   "metadata": {},
   "source": [
    "### Save final index dataframe dropping other numerical variables, maintaining categorical variables:"
   ]
  },
  {
   "cell_type": "code",
   "execution_count": 266,
   "metadata": {},
   "outputs": [],
   "source": [
    "df_z_score_final_export = df_z_score_final[[\"User\",\"User_Gender\",\"User_Age\", \"Final_traffic_index\", \"Final_heating_index\", \"Final_others_index\",\"Overall_Index\"]].copy()"
   ]
  },
  {
   "cell_type": "code",
   "execution_count": 267,
   "metadata": {},
   "outputs": [],
   "source": [
    "# Finally I round the numerical columns with only two decimals:"
   ]
  },
  {
   "cell_type": "code",
   "execution_count": 268,
   "metadata": {},
   "outputs": [],
   "source": [
    "df_z_score_final_export = df_z_score_final_export.round(2)"
   ]
  },
  {
   "cell_type": "code",
   "execution_count": 269,
   "metadata": {},
   "outputs": [],
   "source": [
    "# Save final csv file with the name of df_index:"
   ]
  },
  {
   "cell_type": "code",
   "execution_count": 270,
   "metadata": {},
   "outputs": [],
   "source": [
    "df_z_score_final_export.to_csv('df_index.csv', index=False)"
   ]
  },
  {
   "cell_type": "code",
   "execution_count": 271,
   "metadata": {},
   "outputs": [],
   "source": [
    "# Import last final dataframe and quick overview:"
   ]
  },
  {
   "cell_type": "code",
   "execution_count": 272,
   "metadata": {},
   "outputs": [],
   "source": [
    "df_index = pd.read_csv(\"df_index.csv\")"
   ]
  },
  {
   "cell_type": "code",
   "execution_count": 1,
   "metadata": {},
   "outputs": [],
   "source": [
    "#print(df_index.head(10))\n",
    "#print(df_index.shape)\n",
    "#print(df_index.info())"
   ]
  }
 ],
 "metadata": {
  "kernelspec": {
   "display_name": "Python 3",
   "language": "python",
   "name": "python3"
  },
  "language_info": {
   "codemirror_mode": {
    "name": "ipython",
    "version": 3
   },
   "file_extension": ".py",
   "mimetype": "text/x-python",
   "name": "python",
   "nbconvert_exporter": "python",
   "pygments_lexer": "ipython3",
   "version": "3.8.3"
  }
 },
 "nbformat": 4,
 "nbformat_minor": 4
}
